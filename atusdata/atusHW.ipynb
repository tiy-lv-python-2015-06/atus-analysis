{
 "cells": [
  {
   "cell_type": "code",
   "execution_count": 2,
   "metadata": {
    "collapsed": true
   },
   "outputs": [],
   "source": [
    "import pandas as pd\n",
    "import re"
   ]
  },
  {
   "cell_type": "code",
   "execution_count": 3,
   "metadata": {
    "collapsed": true
   },
   "outputs": [],
   "source": [
    "import matplotlib.pyplot as plt"
   ]
  },
  {
   "cell_type": "code",
   "execution_count": 4,
   "metadata": {
    "collapsed": true
   },
   "outputs": [],
   "source": [
    "%matplotlib inline"
   ]
  },
  {
   "cell_type": "code",
   "execution_count": 643,
   "metadata": {
    "collapsed": false
   },
   "outputs": [
    {
     "name": "stdout",
     "output_type": "stream",
     "text": [
      "<class 'pandas.core.frame.DataFrame'>\n",
      "Int64Index: 11385 entries, 0 to 11384\n",
      "Columns: 413 entries, tucaseid to t500107\n",
      "dtypes: float64(1), int64(412)\n",
      "memory usage: 36.0 MB\n"
     ]
    }
   ],
   "source": [
    "summary = pd.read_csv(\"./atussum_2013.dat\")\n",
    "summary.info()"
   ]
  },
  {
   "cell_type": "code",
   "execution_count": 644,
   "metadata": {
    "collapsed": false
   },
   "outputs": [
    {
     "data": {
      "text/plain": [
       "Index(['tucaseid', 'TUFINLWGT', 'TRYHHCHILD', 'TEAGE', 'TESEX', 'PEEDUCA',\n",
       "       'PTDTRACE', 'PEHSPNON', 'GTMETSTA', 'TELFS', \n",
       "       ...\n",
       "       't181501', 't181599', 't181601', 't181801', 't189999', 't500101',\n",
       "       't500103', 't500105', 't500106', 't500107'],\n",
       "      dtype='object', length=413)"
      ]
     },
     "execution_count": 644,
     "metadata": {},
     "output_type": "execute_result"
    }
   ],
   "source": [
    "summary.columns"
   ]
  },
  {
   "cell_type": "code",
   "execution_count": 645,
   "metadata": {
    "collapsed": false
   },
   "outputs": [],
   "source": [
    "my_summary = summary.drop('TRYHHCHILD', 1)"
   ]
  },
  {
   "cell_type": "code",
   "execution_count": 646,
   "metadata": {
    "collapsed": true
   },
   "outputs": [],
   "source": [
    "my_summary = my_summary.drop('PEEDUCA', 1)"
   ]
  },
  {
   "cell_type": "code",
   "execution_count": 647,
   "metadata": {
    "collapsed": true
   },
   "outputs": [],
   "source": [
    "my_summary = my_summary.drop('PTDTRACE', 1)"
   ]
  },
  {
   "cell_type": "code",
   "execution_count": 648,
   "metadata": {
    "collapsed": true
   },
   "outputs": [],
   "source": [
    "my_summary = my_summary.drop('PEHSPNON', 1)"
   ]
  },
  {
   "cell_type": "code",
   "execution_count": 649,
   "metadata": {
    "collapsed": false
   },
   "outputs": [],
   "source": [
    "my_summary = my_summary.drop('GTMETSTA', 1)"
   ]
  },
  {
   "cell_type": "code",
   "execution_count": 650,
   "metadata": {
    "collapsed": true
   },
   "outputs": [],
   "source": [
    "my_summary = my_summary.drop('TRDPFTPT', 1)"
   ]
  },
  {
   "cell_type": "code",
   "execution_count": 651,
   "metadata": {
    "collapsed": true
   },
   "outputs": [],
   "source": [
    "my_summary = my_summary.drop('TESCHENR', 1)"
   ]
  },
  {
   "cell_type": "code",
   "execution_count": 652,
   "metadata": {
    "collapsed": true
   },
   "outputs": [],
   "source": [
    "my_summary = my_summary.drop('TESCHLVL', 1)"
   ]
  },
  {
   "cell_type": "code",
   "execution_count": 653,
   "metadata": {
    "collapsed": true
   },
   "outputs": [],
   "source": [
    "my_summary = my_summary.drop('TESPEMPNOT', 1)"
   ]
  },
  {
   "cell_type": "code",
   "execution_count": 654,
   "metadata": {
    "collapsed": true
   },
   "outputs": [],
   "source": [
    "my_summary = my_summary.drop('TRSPPRES', 1)"
   ]
  },
  {
   "cell_type": "code",
   "execution_count": 655,
   "metadata": {
    "collapsed": true
   },
   "outputs": [],
   "source": [
    "my_summary = my_summary.drop('TRCHILDNUM', 1)"
   ]
  },
  {
   "cell_type": "code",
   "execution_count": 656,
   "metadata": {
    "collapsed": true
   },
   "outputs": [],
   "source": [
    "my_summary = my_summary.drop('TRSPFTPT', 1)"
   ]
  },
  {
   "cell_type": "code",
   "execution_count": 657,
   "metadata": {
    "collapsed": true
   },
   "outputs": [],
   "source": [
    "my_summary = my_summary.drop('TRHOLIDAY', 1)"
   ]
  },
  {
   "cell_type": "code",
   "execution_count": 658,
   "metadata": {
    "collapsed": false
   },
   "outputs": [],
   "source": [
    "my_summary = my_summary.drop('TRTEC', 1)"
   ]
  },
  {
   "cell_type": "code",
   "execution_count": 659,
   "metadata": {
    "collapsed": true
   },
   "outputs": [],
   "source": [
    "my_summary = my_summary.drop('TRTHH', 1)"
   ]
  },
  {
   "cell_type": "code",
   "execution_count": 660,
   "metadata": {
    "collapsed": true
   },
   "outputs": [],
   "source": [
    "my_summary = my_summary.drop('TEMJOT', 1)"
   ]
  },
  {
   "cell_type": "code",
   "execution_count": 661,
   "metadata": {
    "collapsed": true
   },
   "outputs": [],
   "source": [
    "my_summary = my_summary.drop('TUDIARYDAY', 1)"
   ]
  },
  {
   "cell_type": "code",
   "execution_count": 662,
   "metadata": {
    "collapsed": false
   },
   "outputs": [],
   "source": [
    "my_summary.rename(columns={'TRERNWA': 'WEEKLY_EARNINGS',\n",
    "                           'TEHRUSLT': 'WEEKLY_HRS',\n",
    "                            'TESEX': 'SEX',\n",
    "                            'TEAGE': 'AGE',\n",
    "                            'TELFS': 'LABOR_FORCE_STATUS',\n",
    "                            'TUFINLWGT': 'STATISTICAL_WEIGHT'}, inplace=True)"
   ]
  },
  {
   "cell_type": "code",
   "execution_count": 663,
   "metadata": {
    "collapsed": false
   },
   "outputs": [
    {
     "data": {
      "text/plain": [
       "Index(['tucaseid', 'STATISTICAL_WEIGHT', 'AGE', 'SEX', 'LABOR_FORCE_STATUS',\n",
       "       'WEEKLY_EARNINGS', 'WEEKLY_HRS', 't010101', 't010102', 't010201', \n",
       "       ...\n",
       "       't181501', 't181599', 't181601', 't181801', 't189999', 't500101',\n",
       "       't500103', 't500105', 't500106', 't500107'],\n",
       "      dtype='object', length=396)"
      ]
     },
     "execution_count": 663,
     "metadata": {},
     "output_type": "execute_result"
    }
   ],
   "source": [
    "my_summary.columns"
   ]
  },
  {
   "cell_type": "code",
   "execution_count": 664,
   "metadata": {
    "collapsed": false
   },
   "outputs": [],
   "source": [
    "my_sum_temp = my_summary[ my_summary['WEEKLY_EARNINGS'] > 0 ]"
   ]
  },
  {
   "cell_type": "code",
   "execution_count": 665,
   "metadata": {
    "collapsed": false
   },
   "outputs": [],
   "source": [
    "my_sum_temp = my_sum_temp[ my_sum_temp['WEEKLY_HRS'] > 0 ]"
   ]
  },
  {
   "cell_type": "code",
   "execution_count": 666,
   "metadata": {
    "collapsed": false
   },
   "outputs": [],
   "source": [
    "my_summary = my_sum_temp"
   ]
  },
  {
   "cell_type": "markdown",
   "metadata": {},
   "source": [
    "# get rid of people not in the work force and then drop the column"
   ]
  },
  {
   "cell_type": "code",
   "execution_count": 667,
   "metadata": {
    "collapsed": false
   },
   "outputs": [],
   "source": [
    "temp_sum = my_summary[ my_summary['LABOR_FORCE_STATUS'] != 1 ]"
   ]
  },
  {
   "cell_type": "code",
   "execution_count": 668,
   "metadata": {
    "collapsed": false
   },
   "outputs": [],
   "source": [
    "temp_sum = my_summary[ my_summary['LABOR_FORCE_STATUS'] != 2 ]"
   ]
  },
  {
   "cell_type": "code",
   "execution_count": 669,
   "metadata": {
    "collapsed": true
   },
   "outputs": [],
   "source": [
    "my_summary = temp_sum"
   ]
  },
  {
   "cell_type": "code",
   "execution_count": 670,
   "metadata": {
    "collapsed": false
   },
   "outputs": [],
   "source": [
    "my_summary = my_summary.drop('LABOR_FORCE_STATUS', 1)"
   ]
  },
  {
   "cell_type": "code",
   "execution_count": 671,
   "metadata": {
    "collapsed": false
   },
   "outputs": [
    {
     "name": "stdout",
     "output_type": "stream",
     "text": [
      "<class 'pandas.core.frame.DataFrame'>\n",
      "Int64Index: 5543 entries, 1 to 11383\n",
      "Columns: 395 entries, tucaseid to t500107\n",
      "dtypes: float64(1), int64(394)\n",
      "memory usage: 16.7 MB\n"
     ]
    }
   ],
   "source": [
    "my_summary.info()"
   ]
  },
  {
   "cell_type": "markdown",
   "metadata": {},
   "source": [
    "# start working on activity codes"
   ]
  },
  {
   "cell_type": "code",
   "execution_count": 672,
   "metadata": {
    "collapsed": false
   },
   "outputs": [
    {
     "data": {
      "text/plain": [
       "Index(['tucaseid', 'STATISTICAL_WEIGHT', 'AGE', 'SEX', 'WEEKLY_EARNINGS',\n",
       "       'WEEKLY_HRS', 't010101', 't010102', 't010201', 't010299', \n",
       "       ...\n",
       "       't181501', 't181599', 't181601', 't181801', 't189999', 't500101',\n",
       "       't500103', 't500105', 't500106', 't500107'],\n",
       "      dtype='object', length=395)"
      ]
     },
     "execution_count": 672,
     "metadata": {},
     "output_type": "execute_result"
    }
   ],
   "source": [
    "my_summary.columns"
   ]
  },
  {
   "cell_type": "code",
   "execution_count": 673,
   "metadata": {
    "collapsed": false
   },
   "outputs": [
    {
     "data": {
      "text/plain": [
       "Index(['tucaseid', 'STATISTICAL_WEIGHT', 'AGE', 'SEX', 'WEEKLY_EARNINGS',\n",
       "       'WEEKLY_HRS', 't010101', 't010102', 't010201', 't010299', \n",
       "       ...\n",
       "       't181501', 't181599', 't181601', 't181801', 't189999', 't500101',\n",
       "       't500103', 't500105', 't500106', 't500107'],\n",
       "      dtype='object', length=395)"
      ]
     },
     "execution_count": 673,
     "metadata": {},
     "output_type": "execute_result"
    }
   ],
   "source": [
    "my_summary.columns"
   ]
  },
  {
   "cell_type": "code",
   "execution_count": 674,
   "metadata": {
    "collapsed": true
   },
   "outputs": [],
   "source": [
    "def activity_columns(data, activity_code):\n",
    "    \"\"\"For the activity code given, return all columns that fall under that activity.\"\"\"\n",
    "    col_prefix = \"t{}\".format(activity_code)\n",
    "    return [column for column in data.columns if re.match(col_prefix, column)]"
   ]
  },
  {
   "cell_type": "code",
   "execution_count": 675,
   "metadata": {
    "collapsed": false
   },
   "outputs": [],
   "source": [
    "my_temp_sum = activity_columns(my_summary, \"05\")"
   ]
  },
  {
   "cell_type": "code",
   "execution_count": 676,
   "metadata": {
    "collapsed": true
   },
   "outputs": [],
   "source": [
    "my_temp_sum = my_summary[['tucaseid','SEX','AGE','WEEKLY_EARNINGS','WEEKLY_HRS']]"
   ]
  },
  {
   "cell_type": "code",
   "execution_count": 677,
   "metadata": {
    "collapsed": false
   },
   "outputs": [
    {
     "data": {
      "text/plain": [
       "Index(['tucaseid', 'SEX', 'AGE', 'WEEKLY_EARNINGS', 'WEEKLY_HRS'], dtype='object')"
      ]
     },
     "execution_count": 677,
     "metadata": {},
     "output_type": "execute_result"
    }
   ],
   "source": [
    "my_temp_sum.columns"
   ]
  },
  {
   "cell_type": "code",
   "execution_count": 678,
   "metadata": {
    "collapsed": false
   },
   "outputs": [
    {
     "name": "stderr",
     "output_type": "stream",
     "text": [
      "/Users/traciarms/ironyard/sandbox/atus-analysis/.direnv/python-3.4.3/lib/python3.4/site-packages/IPython/kernel/__main__.py:1: SettingWithCopyWarning: \n",
      "A value is trying to be set on a copy of a slice from a DataFrame.\n",
      "Try using .loc[row_indexer,col_indexer] = value instead\n",
      "\n",
      "See the the caveats in the documentation: http://pandas.pydata.org/pandas-docs/stable/indexing.html#indexing-view-versus-copy\n",
      "  if __name__ == '__main__':\n"
     ]
    }
   ],
   "source": [
    "my_temp_sum['WEEKLY_EARNINGS'] = my_temp_sum['WEEKLY_EARNINGS'] / 100"
   ]
  },
  {
   "cell_type": "code",
   "execution_count": 679,
   "metadata": {
    "collapsed": false
   },
   "outputs": [
    {
     "name": "stderr",
     "output_type": "stream",
     "text": [
      "/Users/traciarms/ironyard/sandbox/atus-analysis/.direnv/python-3.4.3/lib/python3.4/site-packages/IPython/kernel/__main__.py:1: SettingWithCopyWarning: \n",
      "A value is trying to be set on a copy of a slice from a DataFrame.\n",
      "Try using .loc[row_indexer,col_indexer] = value instead\n",
      "\n",
      "See the the caveats in the documentation: http://pandas.pydata.org/pandas-docs/stable/indexing.html#indexing-view-versus-copy\n",
      "  if __name__ == '__main__':\n"
     ]
    }
   ],
   "source": [
    "my_temp_sum['HOURLY_WAGE'] = my_temp_sum['WEEKLY_EARNINGS'] / my_temp_sum['WEEKLY_HRS']"
   ]
  },
  {
   "cell_type": "code",
   "execution_count": 680,
   "metadata": {
    "collapsed": false
   },
   "outputs": [
    {
     "data": {
      "text/html": [
       "<div>\n",
       "<table border=\"1\" class=\"dataframe\">\n",
       "  <thead>\n",
       "    <tr style=\"text-align: right;\">\n",
       "      <th></th>\n",
       "      <th>tucaseid</th>\n",
       "      <th>SEX</th>\n",
       "      <th>AGE</th>\n",
       "      <th>WEEKLY_EARNINGS</th>\n",
       "      <th>WEEKLY_HRS</th>\n",
       "      <th>HOURLY_WAGE</th>\n",
       "    </tr>\n",
       "  </thead>\n",
       "  <tbody>\n",
       "    <tr>\n",
       "      <th>5417</th>\n",
       "      <td>20130605131371</td>\n",
       "      <td>1</td>\n",
       "      <td>56</td>\n",
       "      <td>2884.61</td>\n",
       "      <td>72</td>\n",
       "      <td>40.064028</td>\n",
       "    </tr>\n",
       "    <tr>\n",
       "      <th>6036</th>\n",
       "      <td>20130705131066</td>\n",
       "      <td>2</td>\n",
       "      <td>55</td>\n",
       "      <td>2884.61</td>\n",
       "      <td>80</td>\n",
       "      <td>36.057625</td>\n",
       "    </tr>\n",
       "    <tr>\n",
       "      <th>8554</th>\n",
       "      <td>20130908132409</td>\n",
       "      <td>1</td>\n",
       "      <td>61</td>\n",
       "      <td>2884.61</td>\n",
       "      <td>40</td>\n",
       "      <td>72.115250</td>\n",
       "    </tr>\n",
       "    <tr>\n",
       "      <th>4119</th>\n",
       "      <td>20130404131734</td>\n",
       "      <td>2</td>\n",
       "      <td>32</td>\n",
       "      <td>2884.61</td>\n",
       "      <td>52</td>\n",
       "      <td>55.473269</td>\n",
       "    </tr>\n",
       "    <tr>\n",
       "      <th>3808</th>\n",
       "      <td>20130403132064</td>\n",
       "      <td>1</td>\n",
       "      <td>52</td>\n",
       "      <td>2884.61</td>\n",
       "      <td>50</td>\n",
       "      <td>57.692200</td>\n",
       "    </tr>\n",
       "  </tbody>\n",
       "</table>\n",
       "</div>"
      ],
      "text/plain": [
       "            tucaseid  SEX  AGE  WEEKLY_EARNINGS  WEEKLY_HRS  HOURLY_WAGE\n",
       "5417  20130605131371    1   56          2884.61          72    40.064028\n",
       "6036  20130705131066    2   55          2884.61          80    36.057625\n",
       "8554  20130908132409    1   61          2884.61          40    72.115250\n",
       "4119  20130404131734    2   32          2884.61          52    55.473269\n",
       "3808  20130403132064    1   52          2884.61          50    57.692200"
      ]
     },
     "execution_count": 680,
     "metadata": {},
     "output_type": "execute_result"
    }
   ],
   "source": [
    "my_temp_sum.sort('WEEKLY_EARNINGS',)[::-1].head()"
   ]
  },
  {
   "cell_type": "code",
   "execution_count": 681,
   "metadata": {
    "collapsed": false
   },
   "outputs": [],
   "source": [
    "highest_wages = my_temp_sum.sort('HOURLY_WAGE',)[::-1]"
   ]
  },
  {
   "cell_type": "code",
   "execution_count": 682,
   "metadata": {
    "collapsed": false
   },
   "outputs": [],
   "source": [
    "highest_wages_50s = highest_wages[ (highest_wages['AGE'] >=50) & (highest_wages['AGE'] <=59) ]"
   ]
  },
  {
   "cell_type": "code",
   "execution_count": 683,
   "metadata": {
    "collapsed": false
   },
   "outputs": [],
   "source": [
    "highest_wages_40s = highest_wages[ (highest_wages['AGE'] >=40) & (highest_wages['AGE'] <=49) ]"
   ]
  },
  {
   "cell_type": "code",
   "execution_count": 684,
   "metadata": {
    "collapsed": true
   },
   "outputs": [],
   "source": [
    "highest_wages_30s = highest_wages[ (highest_wages['AGE'] >=30) & (highest_wages['AGE'] <=39) ]"
   ]
  },
  {
   "cell_type": "code",
   "execution_count": 685,
   "metadata": {
    "collapsed": true
   },
   "outputs": [],
   "source": [
    "highest_wages_20s = highest_wages[ (highest_wages['AGE'] >=20) & (highest_wages['AGE'] <=29) ]"
   ]
  },
  {
   "cell_type": "code",
   "execution_count": 686,
   "metadata": {
    "collapsed": false
   },
   "outputs": [
    {
     "data": {
      "text/html": [
       "<div>\n",
       "<table border=\"1\" class=\"dataframe\">\n",
       "  <thead>\n",
       "    <tr style=\"text-align: right;\">\n",
       "      <th></th>\n",
       "      <th>tucaseid</th>\n",
       "      <th>SEX</th>\n",
       "      <th>AGE</th>\n",
       "      <th>WEEKLY_EARNINGS</th>\n",
       "      <th>WEEKLY_HRS</th>\n",
       "      <th>HOURLY_WAGE</th>\n",
       "    </tr>\n",
       "  </thead>\n",
       "  <tbody>\n",
       "    <tr>\n",
       "      <th>6062</th>\n",
       "      <td>20130705131466</td>\n",
       "      <td>2</td>\n",
       "      <td>56</td>\n",
       "      <td>440.00</td>\n",
       "      <td>4</td>\n",
       "      <td>110.000000</td>\n",
       "    </tr>\n",
       "    <tr>\n",
       "      <th>7237</th>\n",
       "      <td>20130807130925</td>\n",
       "      <td>1</td>\n",
       "      <td>53</td>\n",
       "      <td>2884.61</td>\n",
       "      <td>30</td>\n",
       "      <td>96.153667</td>\n",
       "    </tr>\n",
       "    <tr>\n",
       "      <th>6283</th>\n",
       "      <td>20130706131014</td>\n",
       "      <td>1</td>\n",
       "      <td>56</td>\n",
       "      <td>1153.84</td>\n",
       "      <td>12</td>\n",
       "      <td>96.153333</td>\n",
       "    </tr>\n",
       "    <tr>\n",
       "      <th>6514</th>\n",
       "      <td>20130706131821</td>\n",
       "      <td>2</td>\n",
       "      <td>58</td>\n",
       "      <td>769.00</td>\n",
       "      <td>8</td>\n",
       "      <td>96.125000</td>\n",
       "    </tr>\n",
       "    <tr>\n",
       "      <th>8001</th>\n",
       "      <td>20130908130648</td>\n",
       "      <td>2</td>\n",
       "      <td>53</td>\n",
       "      <td>2884.61</td>\n",
       "      <td>34</td>\n",
       "      <td>84.841471</td>\n",
       "    </tr>\n",
       "  </tbody>\n",
       "</table>\n",
       "</div>"
      ],
      "text/plain": [
       "            tucaseid  SEX  AGE  WEEKLY_EARNINGS  WEEKLY_HRS  HOURLY_WAGE\n",
       "6062  20130705131466    2   56           440.00           4   110.000000\n",
       "7237  20130807130925    1   53          2884.61          30    96.153667\n",
       "6283  20130706131014    1   56          1153.84          12    96.153333\n",
       "6514  20130706131821    2   58           769.00           8    96.125000\n",
       "8001  20130908130648    2   53          2884.61          34    84.841471"
      ]
     },
     "execution_count": 686,
     "metadata": {},
     "output_type": "execute_result"
    }
   ],
   "source": [
    "highest_wages_50s.head()"
   ]
  },
  {
   "cell_type": "code",
   "execution_count": 687,
   "metadata": {
    "collapsed": false
   },
   "outputs": [
    {
     "data": {
      "text/html": [
       "<div>\n",
       "<table border=\"1\" class=\"dataframe\">\n",
       "  <thead>\n",
       "    <tr style=\"text-align: right;\">\n",
       "      <th></th>\n",
       "      <th>tucaseid</th>\n",
       "      <th>SEX</th>\n",
       "      <th>AGE</th>\n",
       "      <th>WEEKLY_EARNINGS</th>\n",
       "      <th>WEEKLY_HRS</th>\n",
       "      <th>HOURLY_WAGE</th>\n",
       "    </tr>\n",
       "  </thead>\n",
       "  <tbody>\n",
       "    <tr>\n",
       "      <th>3204</th>\n",
       "      <td>20130402132245</td>\n",
       "      <td>1</td>\n",
       "      <td>49</td>\n",
       "      <td>125.00</td>\n",
       "      <td>1</td>\n",
       "      <td>125.000000</td>\n",
       "    </tr>\n",
       "    <tr>\n",
       "      <th>3996</th>\n",
       "      <td>20130404130168</td>\n",
       "      <td>2</td>\n",
       "      <td>49</td>\n",
       "      <td>1000.00</td>\n",
       "      <td>8</td>\n",
       "      <td>125.000000</td>\n",
       "    </tr>\n",
       "    <tr>\n",
       "      <th>4906</th>\n",
       "      <td>20130504132472</td>\n",
       "      <td>2</td>\n",
       "      <td>42</td>\n",
       "      <td>2884.61</td>\n",
       "      <td>28</td>\n",
       "      <td>103.021786</td>\n",
       "    </tr>\n",
       "    <tr>\n",
       "      <th>8710</th>\n",
       "      <td>20130909131967</td>\n",
       "      <td>2</td>\n",
       "      <td>42</td>\n",
       "      <td>800.00</td>\n",
       "      <td>8</td>\n",
       "      <td>100.000000</td>\n",
       "    </tr>\n",
       "    <tr>\n",
       "      <th>1462</th>\n",
       "      <td>20130201131419</td>\n",
       "      <td>1</td>\n",
       "      <td>47</td>\n",
       "      <td>2884.61</td>\n",
       "      <td>35</td>\n",
       "      <td>82.417429</td>\n",
       "    </tr>\n",
       "  </tbody>\n",
       "</table>\n",
       "</div>"
      ],
      "text/plain": [
       "            tucaseid  SEX  AGE  WEEKLY_EARNINGS  WEEKLY_HRS  HOURLY_WAGE\n",
       "3204  20130402132245    1   49           125.00           1   125.000000\n",
       "3996  20130404130168    2   49          1000.00           8   125.000000\n",
       "4906  20130504132472    2   42          2884.61          28   103.021786\n",
       "8710  20130909131967    2   42           800.00           8   100.000000\n",
       "1462  20130201131419    1   47          2884.61          35    82.417429"
      ]
     },
     "execution_count": 687,
     "metadata": {},
     "output_type": "execute_result"
    }
   ],
   "source": [
    "highest_wages_40s.head()"
   ]
  },
  {
   "cell_type": "code",
   "execution_count": 688,
   "metadata": {
    "collapsed": false
   },
   "outputs": [
    {
     "data": {
      "text/html": [
       "<div>\n",
       "<table border=\"1\" class=\"dataframe\">\n",
       "  <thead>\n",
       "    <tr style=\"text-align: right;\">\n",
       "      <th></th>\n",
       "      <th>tucaseid</th>\n",
       "      <th>SEX</th>\n",
       "      <th>AGE</th>\n",
       "      <th>WEEKLY_EARNINGS</th>\n",
       "      <th>WEEKLY_HRS</th>\n",
       "      <th>HOURLY_WAGE</th>\n",
       "    </tr>\n",
       "  </thead>\n",
       "  <tbody>\n",
       "    <tr>\n",
       "      <th>3923</th>\n",
       "      <td>20130403132392</td>\n",
       "      <td>1</td>\n",
       "      <td>31</td>\n",
       "      <td>1365.38</td>\n",
       "      <td>4</td>\n",
       "      <td>341.345000</td>\n",
       "    </tr>\n",
       "    <tr>\n",
       "      <th>6599</th>\n",
       "      <td>20130706132155</td>\n",
       "      <td>2</td>\n",
       "      <td>30</td>\n",
       "      <td>2416.00</td>\n",
       "      <td>20</td>\n",
       "      <td>120.800000</td>\n",
       "    </tr>\n",
       "    <tr>\n",
       "      <th>4371</th>\n",
       "      <td>20130504130649</td>\n",
       "      <td>2</td>\n",
       "      <td>38</td>\n",
       "      <td>352.00</td>\n",
       "      <td>3</td>\n",
       "      <td>117.333333</td>\n",
       "    </tr>\n",
       "    <tr>\n",
       "      <th>1749</th>\n",
       "      <td>20130201132332</td>\n",
       "      <td>1</td>\n",
       "      <td>30</td>\n",
       "      <td>1632.00</td>\n",
       "      <td>16</td>\n",
       "      <td>102.000000</td>\n",
       "    </tr>\n",
       "    <tr>\n",
       "      <th>10478</th>\n",
       "      <td>20131210131602</td>\n",
       "      <td>1</td>\n",
       "      <td>33</td>\n",
       "      <td>2884.61</td>\n",
       "      <td>30</td>\n",
       "      <td>96.153667</td>\n",
       "    </tr>\n",
       "  </tbody>\n",
       "</table>\n",
       "</div>"
      ],
      "text/plain": [
       "             tucaseid  SEX  AGE  WEEKLY_EARNINGS  WEEKLY_HRS  HOURLY_WAGE\n",
       "3923   20130403132392    1   31          1365.38           4   341.345000\n",
       "6599   20130706132155    2   30          2416.00          20   120.800000\n",
       "4371   20130504130649    2   38           352.00           3   117.333333\n",
       "1749   20130201132332    1   30          1632.00          16   102.000000\n",
       "10478  20131210131602    1   33          2884.61          30    96.153667"
      ]
     },
     "execution_count": 688,
     "metadata": {},
     "output_type": "execute_result"
    }
   ],
   "source": [
    "highest_wages_30s.head()"
   ]
  },
  {
   "cell_type": "code",
   "execution_count": 689,
   "metadata": {
    "collapsed": false
   },
   "outputs": [
    {
     "data": {
      "text/html": [
       "<div>\n",
       "<table border=\"1\" class=\"dataframe\">\n",
       "  <thead>\n",
       "    <tr style=\"text-align: right;\">\n",
       "      <th></th>\n",
       "      <th>tucaseid</th>\n",
       "      <th>SEX</th>\n",
       "      <th>AGE</th>\n",
       "      <th>WEEKLY_EARNINGS</th>\n",
       "      <th>WEEKLY_HRS</th>\n",
       "      <th>HOURLY_WAGE</th>\n",
       "    </tr>\n",
       "  </thead>\n",
       "  <tbody>\n",
       "    <tr>\n",
       "      <th>11306</th>\n",
       "      <td>20131212131341</td>\n",
       "      <td>1</td>\n",
       "      <td>26</td>\n",
       "      <td>2692.30</td>\n",
       "      <td>30</td>\n",
       "      <td>89.743333</td>\n",
       "    </tr>\n",
       "    <tr>\n",
       "      <th>10094</th>\n",
       "      <td>20131110131932</td>\n",
       "      <td>1</td>\n",
       "      <td>27</td>\n",
       "      <td>826.92</td>\n",
       "      <td>10</td>\n",
       "      <td>82.692000</td>\n",
       "    </tr>\n",
       "    <tr>\n",
       "      <th>587</th>\n",
       "      <td>20130112121213</td>\n",
       "      <td>2</td>\n",
       "      <td>29</td>\n",
       "      <td>2884.61</td>\n",
       "      <td>40</td>\n",
       "      <td>72.115250</td>\n",
       "    </tr>\n",
       "    <tr>\n",
       "      <th>257</th>\n",
       "      <td>20130111122022</td>\n",
       "      <td>2</td>\n",
       "      <td>27</td>\n",
       "      <td>2800.00</td>\n",
       "      <td>45</td>\n",
       "      <td>62.222222</td>\n",
       "    </tr>\n",
       "    <tr>\n",
       "      <th>10690</th>\n",
       "      <td>20131211130773</td>\n",
       "      <td>2</td>\n",
       "      <td>28</td>\n",
       "      <td>2480.00</td>\n",
       "      <td>40</td>\n",
       "      <td>62.000000</td>\n",
       "    </tr>\n",
       "  </tbody>\n",
       "</table>\n",
       "</div>"
      ],
      "text/plain": [
       "             tucaseid  SEX  AGE  WEEKLY_EARNINGS  WEEKLY_HRS  HOURLY_WAGE\n",
       "11306  20131212131341    1   26          2692.30          30    89.743333\n",
       "10094  20131110131932    1   27           826.92          10    82.692000\n",
       "587    20130112121213    2   29          2884.61          40    72.115250\n",
       "257    20130111122022    2   27          2800.00          45    62.222222\n",
       "10690  20131211130773    2   28          2480.00          40    62.000000"
      ]
     },
     "execution_count": 689,
     "metadata": {},
     "output_type": "execute_result"
    }
   ],
   "source": [
    "highest_wages_20s.head()"
   ]
  },
  {
   "cell_type": "markdown",
   "metadata": {},
   "source": [
    "# Start respondant table"
   ]
  },
  {
   "cell_type": "code",
   "execution_count": 690,
   "metadata": {
    "collapsed": false
   },
   "outputs": [],
   "source": [
    "respondant = pd.read_csv(\"./atusresp_2013.dat\")\n",
    "activities = pd.read_csv(\"./atusact_2013.dat\")"
   ]
  },
  {
   "cell_type": "code",
   "execution_count": 746,
   "metadata": {
    "collapsed": false
   },
   "outputs": [],
   "source": [
    "respondant_job = respondant[ ['TUCASEID', 'TEIO1OCD'] ]"
   ]
  },
  {
   "cell_type": "code",
   "execution_count": 747,
   "metadata": {
    "collapsed": false
   },
   "outputs": [],
   "source": [
    "top_10_w_jobID = pd.merge(top_ten_wages, respondant_job, left_on=\"tucaseid\", right_on=\"TUCASEID\")"
   ]
  },
  {
   "cell_type": "code",
   "execution_count": 748,
   "metadata": {
    "collapsed": false
   },
   "outputs": [],
   "source": [
    "highest_wages_50_jobID = pd.merge(highest_wages_50s, respondant_job, left_on=\"tucaseid\", right_on=\"TUCASEID\")"
   ]
  },
  {
   "cell_type": "code",
   "execution_count": 749,
   "metadata": {
    "collapsed": false
   },
   "outputs": [
    {
     "data": {
      "text/html": [
       "<div>\n",
       "<table border=\"1\" class=\"dataframe\">\n",
       "  <thead>\n",
       "    <tr style=\"text-align: right;\">\n",
       "      <th></th>\n",
       "      <th>tucaseid</th>\n",
       "      <th>SEX</th>\n",
       "      <th>AGE</th>\n",
       "      <th>WEEKLY_EARNINGS</th>\n",
       "      <th>WEEKLY_HRS</th>\n",
       "      <th>HOURLY_WAGE</th>\n",
       "      <th>TUCASEID</th>\n",
       "      <th>TEIO1OCD</th>\n",
       "    </tr>\n",
       "  </thead>\n",
       "  <tbody>\n",
       "    <tr>\n",
       "      <th>0</th>\n",
       "      <td>20130705131466</td>\n",
       "      <td>2</td>\n",
       "      <td>56</td>\n",
       "      <td>440.00</td>\n",
       "      <td>4</td>\n",
       "      <td>110.000000</td>\n",
       "      <td>20130705131466</td>\n",
       "      <td>2340</td>\n",
       "    </tr>\n",
       "    <tr>\n",
       "      <th>1</th>\n",
       "      <td>20130807130925</td>\n",
       "      <td>1</td>\n",
       "      <td>53</td>\n",
       "      <td>2884.61</td>\n",
       "      <td>30</td>\n",
       "      <td>96.153667</td>\n",
       "      <td>20130807130925</td>\n",
       "      <td>3010</td>\n",
       "    </tr>\n",
       "    <tr>\n",
       "      <th>2</th>\n",
       "      <td>20130706131014</td>\n",
       "      <td>1</td>\n",
       "      <td>56</td>\n",
       "      <td>1153.84</td>\n",
       "      <td>12</td>\n",
       "      <td>96.153333</td>\n",
       "      <td>20130706131014</td>\n",
       "      <td>9130</td>\n",
       "    </tr>\n",
       "    <tr>\n",
       "      <th>3</th>\n",
       "      <td>20130706131821</td>\n",
       "      <td>2</td>\n",
       "      <td>58</td>\n",
       "      <td>769.00</td>\n",
       "      <td>8</td>\n",
       "      <td>96.125000</td>\n",
       "      <td>20130706131821</td>\n",
       "      <td>2160</td>\n",
       "    </tr>\n",
       "    <tr>\n",
       "      <th>4</th>\n",
       "      <td>20130908130648</td>\n",
       "      <td>2</td>\n",
       "      <td>53</td>\n",
       "      <td>2884.61</td>\n",
       "      <td>34</td>\n",
       "      <td>84.841471</td>\n",
       "      <td>20130908130648</td>\n",
       "      <td>3060</td>\n",
       "    </tr>\n",
       "  </tbody>\n",
       "</table>\n",
       "</div>"
      ],
      "text/plain": [
       "         tucaseid  SEX  AGE  WEEKLY_EARNINGS  WEEKLY_HRS  HOURLY_WAGE  \\\n",
       "0  20130705131466    2   56           440.00           4   110.000000   \n",
       "1  20130807130925    1   53          2884.61          30    96.153667   \n",
       "2  20130706131014    1   56          1153.84          12    96.153333   \n",
       "3  20130706131821    2   58           769.00           8    96.125000   \n",
       "4  20130908130648    2   53          2884.61          34    84.841471   \n",
       "\n",
       "         TUCASEID  TEIO1OCD  \n",
       "0  20130705131466      2340  \n",
       "1  20130807130925      3010  \n",
       "2  20130706131014      9130  \n",
       "3  20130706131821      2160  \n",
       "4  20130908130648      3060  "
      ]
     },
     "execution_count": 749,
     "metadata": {},
     "output_type": "execute_result"
    }
   ],
   "source": [
    "highest_wages_50_jobID.head()"
   ]
  },
  {
   "cell_type": "code",
   "execution_count": 750,
   "metadata": {
    "collapsed": true
   },
   "outputs": [],
   "source": [
    "highest_wages_40_jobID = pd.merge(highest_wages_40s, respondant_job, left_on=\"tucaseid\", right_on=\"TUCASEID\")"
   ]
  },
  {
   "cell_type": "code",
   "execution_count": 751,
   "metadata": {
    "collapsed": true
   },
   "outputs": [],
   "source": [
    "highest_wages_30_jobID = pd.merge(highest_wages_30s, respondant_job, left_on=\"tucaseid\", right_on=\"TUCASEID\")"
   ]
  },
  {
   "cell_type": "code",
   "execution_count": 752,
   "metadata": {
    "collapsed": true
   },
   "outputs": [],
   "source": [
    "highest_wages_20_jobID = pd.merge(highest_wages_20s, respondant_job, left_on=\"tucaseid\", right_on=\"TUCASEID\")"
   ]
  },
  {
   "cell_type": "code",
   "execution_count": 753,
   "metadata": {
    "collapsed": false
   },
   "outputs": [],
   "source": [
    "highest_wages_50_jobID = highest_wages_50_jobID.drop('TUCASEID', 1)"
   ]
  },
  {
   "cell_type": "code",
   "execution_count": 754,
   "metadata": {
    "collapsed": true
   },
   "outputs": [],
   "source": [
    "highest_wages_40_jobID = highest_wages_40_jobID.drop('TUCASEID', 1)"
   ]
  },
  {
   "cell_type": "code",
   "execution_count": 755,
   "metadata": {
    "collapsed": true
   },
   "outputs": [],
   "source": [
    "highest_wages_30_jobID = highest_wages_30_jobID.drop('TUCASEID', 1)"
   ]
  },
  {
   "cell_type": "code",
   "execution_count": 756,
   "metadata": {
    "collapsed": true
   },
   "outputs": [],
   "source": [
    "highest_wages_20_jobID = highest_wages_20_jobID.drop('TUCASEID', 1)"
   ]
  },
  {
   "cell_type": "code",
   "execution_count": 757,
   "metadata": {
    "collapsed": true
   },
   "outputs": [],
   "source": [
    "highest_wages_50_jobID.rename(columns={'TEIO1OCD': 'OCC_ID'}, inplace=True)"
   ]
  },
  {
   "cell_type": "code",
   "execution_count": 758,
   "metadata": {
    "collapsed": false
   },
   "outputs": [],
   "source": [
    "highest_wages_40_jobID.rename(columns={'TEIO1OCD': 'OCC_ID'}, inplace=True)"
   ]
  },
  {
   "cell_type": "code",
   "execution_count": 759,
   "metadata": {
    "collapsed": false
   },
   "outputs": [],
   "source": [
    "highest_wages_40_jobID = highest_wages_40_jobID[ highest_wages_40_jobID['OCC_ID'] != 4220] "
   ]
  },
  {
   "cell_type": "code",
   "execution_count": 760,
   "metadata": {
    "collapsed": true
   },
   "outputs": [],
   "source": [
    "highest_wages_30_jobID.rename(columns={'TEIO1OCD': 'OCC_ID'}, inplace=True)"
   ]
  },
  {
   "cell_type": "code",
   "execution_count": 761,
   "metadata": {
    "collapsed": true
   },
   "outputs": [],
   "source": [
    "highest_wages_20_jobID.rename(columns={'TEIO1OCD': 'OCC_ID'}, inplace=True)"
   ]
  },
  {
   "cell_type": "code",
   "execution_count": 762,
   "metadata": {
    "collapsed": false
   },
   "outputs": [],
   "source": [
    "highest_wages_50_jobID = highest_wages_50_jobID.head()"
   ]
  },
  {
   "cell_type": "code",
   "execution_count": 763,
   "metadata": {
    "collapsed": false
   },
   "outputs": [],
   "source": [
    "highest_wages_40_jobID = highest_wages_40_jobID.head()"
   ]
  },
  {
   "cell_type": "code",
   "execution_count": 764,
   "metadata": {
    "collapsed": false
   },
   "outputs": [],
   "source": [
    "highest_wages_30_jobID = highest_wages_30_jobID.head()"
   ]
  },
  {
   "cell_type": "code",
   "execution_count": 765,
   "metadata": {
    "collapsed": false
   },
   "outputs": [],
   "source": [
    "highest_wages_20_jobID = highest_wages_20_jobID.head()"
   ]
  },
  {
   "cell_type": "code",
   "execution_count": 766,
   "metadata": {
    "collapsed": false
   },
   "outputs": [
    {
     "data": {
      "text/plain": [
       "0    2340\n",
       "1    3010\n",
       "2    9130\n",
       "3    2160\n",
       "4    3060\n",
       "Name: OCC_ID, dtype: int64"
      ]
     },
     "execution_count": 766,
     "metadata": {},
     "output_type": "execute_result"
    }
   ],
   "source": [
    "highest_wages_50_jobID['OCC_ID']"
   ]
  },
  {
   "cell_type": "code",
   "execution_count": 576,
   "metadata": {
    "collapsed": true
   },
   "outputs": [],
   "source": [
    "top_10_w_jobID.rename(columns={'TEIO1OCD': 'OCC_ID'}, inplace=True)"
   ]
  },
  {
   "cell_type": "code",
   "execution_count": 767,
   "metadata": {
    "collapsed": true
   },
   "outputs": [],
   "source": [
    "OCCUPATION = pd.Series({1410: \"Electrical and electronics engineers: Architecture and engineering occupations\",\n",
    "                        220: \"Construction managers: Management\",\n",
    "                        7200: \"Automotive service technicians and mechanics:  Installation, maintenance, and repair occupations\",\n",
    "                        10: \"Chief executives: Management occupations\",\n",
    "                        2100: \"Lawyers: Legal occupations\",\n",
    "                        410: \"Property, real estate, and community association managers\",\n",
    "                        430: \"Managers, all other\",\n",
    "                        3250: \"Veterinarians\",\n",
    "                        310: \"Food service managers\",\n",
    "                        2010: \"Social workers\",\n",
    "                        3010: \"Dentists\",\n",
    "                        9130: \"Driver/sales workers and truck drivers\",\n",
    "                        2160: \"Miscellaneous legal support workers\",\n",
    "                        3060: \"Physicians and surgeons\",\n",
    "                        6420: \"Painters, construction and maintenance\",\n",
    "                        9600: \"Industrial truck and tractor operators\",\n",
    "                        7810: \"Butchers and other meat, poultry, and fish processing workers\",\n",
    "                        9050: \"Flight attendants: Transportation and material moving occupations\",\n",
    "                        2540: \"Teacher assistants: Education, training, and library occupations\",\n",
    "                        2340: \"Other teachers and instructors\",\n",
    "                        2310: \"Elementary and middle school teachers\",\n",
    "                        3255: \"Registered nurses\",\n",
    "                        7630: \"Other installation, maintenance, and repair workers:  Installation, maintenance, and repair occupations\"})"
   ]
  },
  {
   "cell_type": "code",
   "execution_count": 768,
   "metadata": {
    "collapsed": false
   },
   "outputs": [],
   "source": [
    "highest_wages_50_jobID['JOB_DESC'] = highest_wages_50_jobID.OCC_ID.map(OCCUPATION)"
   ]
  },
  {
   "cell_type": "code",
   "execution_count": 769,
   "metadata": {
    "collapsed": false
   },
   "outputs": [
    {
     "data": {
      "text/html": [
       "<div>\n",
       "<table border=\"1\" class=\"dataframe\">\n",
       "  <thead>\n",
       "    <tr style=\"text-align: right;\">\n",
       "      <th></th>\n",
       "      <th>tucaseid</th>\n",
       "      <th>SEX</th>\n",
       "      <th>AGE</th>\n",
       "      <th>WEEKLY_EARNINGS</th>\n",
       "      <th>WEEKLY_HRS</th>\n",
       "      <th>HOURLY_WAGE</th>\n",
       "      <th>OCC_ID</th>\n",
       "      <th>JOB_DESC</th>\n",
       "    </tr>\n",
       "  </thead>\n",
       "  <tbody>\n",
       "    <tr>\n",
       "      <th>0</th>\n",
       "      <td>20130705131466</td>\n",
       "      <td>2</td>\n",
       "      <td>56</td>\n",
       "      <td>440.00</td>\n",
       "      <td>4</td>\n",
       "      <td>110.000000</td>\n",
       "      <td>2340</td>\n",
       "      <td>Other teachers and instructors</td>\n",
       "    </tr>\n",
       "    <tr>\n",
       "      <th>1</th>\n",
       "      <td>20130807130925</td>\n",
       "      <td>1</td>\n",
       "      <td>53</td>\n",
       "      <td>2884.61</td>\n",
       "      <td>30</td>\n",
       "      <td>96.153667</td>\n",
       "      <td>3010</td>\n",
       "      <td>Dentists</td>\n",
       "    </tr>\n",
       "    <tr>\n",
       "      <th>2</th>\n",
       "      <td>20130706131014</td>\n",
       "      <td>1</td>\n",
       "      <td>56</td>\n",
       "      <td>1153.84</td>\n",
       "      <td>12</td>\n",
       "      <td>96.153333</td>\n",
       "      <td>9130</td>\n",
       "      <td>Driver/sales workers and truck drivers</td>\n",
       "    </tr>\n",
       "    <tr>\n",
       "      <th>3</th>\n",
       "      <td>20130706131821</td>\n",
       "      <td>2</td>\n",
       "      <td>58</td>\n",
       "      <td>769.00</td>\n",
       "      <td>8</td>\n",
       "      <td>96.125000</td>\n",
       "      <td>2160</td>\n",
       "      <td>Miscellaneous legal support workers</td>\n",
       "    </tr>\n",
       "    <tr>\n",
       "      <th>4</th>\n",
       "      <td>20130908130648</td>\n",
       "      <td>2</td>\n",
       "      <td>53</td>\n",
       "      <td>2884.61</td>\n",
       "      <td>34</td>\n",
       "      <td>84.841471</td>\n",
       "      <td>3060</td>\n",
       "      <td>Physicians and surgeons</td>\n",
       "    </tr>\n",
       "  </tbody>\n",
       "</table>\n",
       "</div>"
      ],
      "text/plain": [
       "         tucaseid  SEX  AGE  WEEKLY_EARNINGS  WEEKLY_HRS  HOURLY_WAGE  OCC_ID  \\\n",
       "0  20130705131466    2   56           440.00           4   110.000000    2340   \n",
       "1  20130807130925    1   53          2884.61          30    96.153667    3010   \n",
       "2  20130706131014    1   56          1153.84          12    96.153333    9130   \n",
       "3  20130706131821    2   58           769.00           8    96.125000    2160   \n",
       "4  20130908130648    2   53          2884.61          34    84.841471    3060   \n",
       "\n",
       "                                 JOB_DESC  \n",
       "0          Other teachers and instructors  \n",
       "1                                Dentists  \n",
       "2  Driver/sales workers and truck drivers  \n",
       "3     Miscellaneous legal support workers  \n",
       "4                 Physicians and surgeons  "
      ]
     },
     "execution_count": 769,
     "metadata": {},
     "output_type": "execute_result"
    }
   ],
   "source": [
    "highest_wages_50_jobID"
   ]
  },
  {
   "cell_type": "code",
   "execution_count": 770,
   "metadata": {
    "collapsed": true
   },
   "outputs": [],
   "source": [
    "highest_wages_40_jobID['JOB_DESC'] = highest_wages_40_jobID.OCC_ID.map(OCCUPATION)"
   ]
  },
  {
   "cell_type": "code",
   "execution_count": 771,
   "metadata": {
    "collapsed": false
   },
   "outputs": [
    {
     "data": {
      "text/html": [
       "<div>\n",
       "<table border=\"1\" class=\"dataframe\">\n",
       "  <thead>\n",
       "    <tr style=\"text-align: right;\">\n",
       "      <th></th>\n",
       "      <th>tucaseid</th>\n",
       "      <th>SEX</th>\n",
       "      <th>AGE</th>\n",
       "      <th>WEEKLY_EARNINGS</th>\n",
       "      <th>WEEKLY_HRS</th>\n",
       "      <th>HOURLY_WAGE</th>\n",
       "      <th>OCC_ID</th>\n",
       "      <th>JOB_DESC</th>\n",
       "    </tr>\n",
       "  </thead>\n",
       "  <tbody>\n",
       "    <tr>\n",
       "      <th>1</th>\n",
       "      <td>20130404130168</td>\n",
       "      <td>2</td>\n",
       "      <td>49</td>\n",
       "      <td>1000.00</td>\n",
       "      <td>8</td>\n",
       "      <td>125.000000</td>\n",
       "      <td>9050</td>\n",
       "      <td>Flight attendants: Transportation and material...</td>\n",
       "    </tr>\n",
       "    <tr>\n",
       "      <th>2</th>\n",
       "      <td>20130504132472</td>\n",
       "      <td>2</td>\n",
       "      <td>42</td>\n",
       "      <td>2884.61</td>\n",
       "      <td>28</td>\n",
       "      <td>103.021786</td>\n",
       "      <td>2540</td>\n",
       "      <td>Teacher assistants: Education, training, and l...</td>\n",
       "    </tr>\n",
       "    <tr>\n",
       "      <th>3</th>\n",
       "      <td>20130909131967</td>\n",
       "      <td>2</td>\n",
       "      <td>42</td>\n",
       "      <td>800.00</td>\n",
       "      <td>8</td>\n",
       "      <td>100.000000</td>\n",
       "      <td>9600</td>\n",
       "      <td>Industrial truck and tractor operators</td>\n",
       "    </tr>\n",
       "    <tr>\n",
       "      <th>4</th>\n",
       "      <td>20130201131419</td>\n",
       "      <td>1</td>\n",
       "      <td>47</td>\n",
       "      <td>2884.61</td>\n",
       "      <td>35</td>\n",
       "      <td>82.417429</td>\n",
       "      <td>2310</td>\n",
       "      <td>Elementary and middle school teachers</td>\n",
       "    </tr>\n",
       "    <tr>\n",
       "      <th>5</th>\n",
       "      <td>20130807131178</td>\n",
       "      <td>2</td>\n",
       "      <td>42</td>\n",
       "      <td>2884.61</td>\n",
       "      <td>36</td>\n",
       "      <td>80.128056</td>\n",
       "      <td>3255</td>\n",
       "      <td>Registered nurses</td>\n",
       "    </tr>\n",
       "  </tbody>\n",
       "</table>\n",
       "</div>"
      ],
      "text/plain": [
       "         tucaseid  SEX  AGE  WEEKLY_EARNINGS  WEEKLY_HRS  HOURLY_WAGE  OCC_ID  \\\n",
       "1  20130404130168    2   49          1000.00           8   125.000000    9050   \n",
       "2  20130504132472    2   42          2884.61          28   103.021786    2540   \n",
       "3  20130909131967    2   42           800.00           8   100.000000    9600   \n",
       "4  20130201131419    1   47          2884.61          35    82.417429    2310   \n",
       "5  20130807131178    2   42          2884.61          36    80.128056    3255   \n",
       "\n",
       "                                            JOB_DESC  \n",
       "1  Flight attendants: Transportation and material...  \n",
       "2  Teacher assistants: Education, training, and l...  \n",
       "3             Industrial truck and tractor operators  \n",
       "4              Elementary and middle school teachers  \n",
       "5                                  Registered nurses  "
      ]
     },
     "execution_count": 771,
     "metadata": {},
     "output_type": "execute_result"
    }
   ],
   "source": [
    "highest_wages_40_jobID"
   ]
  },
  {
   "cell_type": "code",
   "execution_count": 772,
   "metadata": {
    "collapsed": true
   },
   "outputs": [],
   "source": [
    "highest_wages_30_jobID['JOB_DESC'] = highest_wages_30_jobID.OCC_ID.map(OCCUPATION)"
   ]
  },
  {
   "cell_type": "code",
   "execution_count": 773,
   "metadata": {
    "collapsed": false
   },
   "outputs": [
    {
     "data": {
      "text/html": [
       "<div>\n",
       "<table border=\"1\" class=\"dataframe\">\n",
       "  <thead>\n",
       "    <tr style=\"text-align: right;\">\n",
       "      <th></th>\n",
       "      <th>tucaseid</th>\n",
       "      <th>SEX</th>\n",
       "      <th>AGE</th>\n",
       "      <th>WEEKLY_EARNINGS</th>\n",
       "      <th>WEEKLY_HRS</th>\n",
       "      <th>HOURLY_WAGE</th>\n",
       "      <th>OCC_ID</th>\n",
       "      <th>JOB_DESC</th>\n",
       "    </tr>\n",
       "  </thead>\n",
       "  <tbody>\n",
       "    <tr>\n",
       "      <th>0</th>\n",
       "      <td>20130403132392</td>\n",
       "      <td>1</td>\n",
       "      <td>31</td>\n",
       "      <td>1365.38</td>\n",
       "      <td>4</td>\n",
       "      <td>341.345000</td>\n",
       "      <td>1410</td>\n",
       "      <td>Electrical and electronics engineers: Architec...</td>\n",
       "    </tr>\n",
       "    <tr>\n",
       "      <th>1</th>\n",
       "      <td>20130706132155</td>\n",
       "      <td>2</td>\n",
       "      <td>30</td>\n",
       "      <td>2416.00</td>\n",
       "      <td>20</td>\n",
       "      <td>120.800000</td>\n",
       "      <td>2540</td>\n",
       "      <td>Teacher assistants: Education, training, and l...</td>\n",
       "    </tr>\n",
       "    <tr>\n",
       "      <th>2</th>\n",
       "      <td>20130504130649</td>\n",
       "      <td>2</td>\n",
       "      <td>38</td>\n",
       "      <td>352.00</td>\n",
       "      <td>3</td>\n",
       "      <td>117.333333</td>\n",
       "      <td>2540</td>\n",
       "      <td>Teacher assistants: Education, training, and l...</td>\n",
       "    </tr>\n",
       "    <tr>\n",
       "      <th>3</th>\n",
       "      <td>20130201132332</td>\n",
       "      <td>1</td>\n",
       "      <td>30</td>\n",
       "      <td>1632.00</td>\n",
       "      <td>16</td>\n",
       "      <td>102.000000</td>\n",
       "      <td>6420</td>\n",
       "      <td>Painters, construction and maintenance</td>\n",
       "    </tr>\n",
       "    <tr>\n",
       "      <th>4</th>\n",
       "      <td>20131210131602</td>\n",
       "      <td>1</td>\n",
       "      <td>33</td>\n",
       "      <td>2884.61</td>\n",
       "      <td>30</td>\n",
       "      <td>96.153667</td>\n",
       "      <td>7810</td>\n",
       "      <td>Butchers and other meat, poultry, and fish pro...</td>\n",
       "    </tr>\n",
       "  </tbody>\n",
       "</table>\n",
       "</div>"
      ],
      "text/plain": [
       "         tucaseid  SEX  AGE  WEEKLY_EARNINGS  WEEKLY_HRS  HOURLY_WAGE  OCC_ID  \\\n",
       "0  20130403132392    1   31          1365.38           4   341.345000    1410   \n",
       "1  20130706132155    2   30          2416.00          20   120.800000    2540   \n",
       "2  20130504130649    2   38           352.00           3   117.333333    2540   \n",
       "3  20130201132332    1   30          1632.00          16   102.000000    6420   \n",
       "4  20131210131602    1   33          2884.61          30    96.153667    7810   \n",
       "\n",
       "                                            JOB_DESC  \n",
       "0  Electrical and electronics engineers: Architec...  \n",
       "1  Teacher assistants: Education, training, and l...  \n",
       "2  Teacher assistants: Education, training, and l...  \n",
       "3             Painters, construction and maintenance  \n",
       "4  Butchers and other meat, poultry, and fish pro...  "
      ]
     },
     "execution_count": 773,
     "metadata": {},
     "output_type": "execute_result"
    }
   ],
   "source": [
    "highest_wages_30_jobID"
   ]
  },
  {
   "cell_type": "code",
   "execution_count": 774,
   "metadata": {
    "collapsed": false
   },
   "outputs": [],
   "source": [
    "highest_wages_20_jobID['JOB_DESC'] = highest_wages_20_jobID.OCC_ID.map(OCCUPATION)"
   ]
  },
  {
   "cell_type": "code",
   "execution_count": 775,
   "metadata": {
    "collapsed": false
   },
   "outputs": [
    {
     "data": {
      "text/html": [
       "<div>\n",
       "<table border=\"1\" class=\"dataframe\">\n",
       "  <thead>\n",
       "    <tr style=\"text-align: right;\">\n",
       "      <th></th>\n",
       "      <th>tucaseid</th>\n",
       "      <th>SEX</th>\n",
       "      <th>AGE</th>\n",
       "      <th>WEEKLY_EARNINGS</th>\n",
       "      <th>WEEKLY_HRS</th>\n",
       "      <th>HOURLY_WAGE</th>\n",
       "      <th>OCC_ID</th>\n",
       "      <th>JOB_DESC</th>\n",
       "    </tr>\n",
       "  </thead>\n",
       "  <tbody>\n",
       "    <tr>\n",
       "      <th>0</th>\n",
       "      <td>20131212131341</td>\n",
       "      <td>1</td>\n",
       "      <td>26</td>\n",
       "      <td>2692.30</td>\n",
       "      <td>30</td>\n",
       "      <td>89.743333</td>\n",
       "      <td>410</td>\n",
       "      <td>Property, real estate, and community associati...</td>\n",
       "    </tr>\n",
       "    <tr>\n",
       "      <th>1</th>\n",
       "      <td>20131110131932</td>\n",
       "      <td>1</td>\n",
       "      <td>27</td>\n",
       "      <td>826.92</td>\n",
       "      <td>10</td>\n",
       "      <td>82.692000</td>\n",
       "      <td>430</td>\n",
       "      <td>Managers, all other</td>\n",
       "    </tr>\n",
       "    <tr>\n",
       "      <th>2</th>\n",
       "      <td>20130112121213</td>\n",
       "      <td>2</td>\n",
       "      <td>29</td>\n",
       "      <td>2884.61</td>\n",
       "      <td>40</td>\n",
       "      <td>72.115250</td>\n",
       "      <td>3250</td>\n",
       "      <td>Veterinarians</td>\n",
       "    </tr>\n",
       "    <tr>\n",
       "      <th>3</th>\n",
       "      <td>20130111122022</td>\n",
       "      <td>2</td>\n",
       "      <td>27</td>\n",
       "      <td>2800.00</td>\n",
       "      <td>45</td>\n",
       "      <td>62.222222</td>\n",
       "      <td>310</td>\n",
       "      <td>Food service managers</td>\n",
       "    </tr>\n",
       "    <tr>\n",
       "      <th>4</th>\n",
       "      <td>20131211130773</td>\n",
       "      <td>2</td>\n",
       "      <td>28</td>\n",
       "      <td>2480.00</td>\n",
       "      <td>40</td>\n",
       "      <td>62.000000</td>\n",
       "      <td>2010</td>\n",
       "      <td>Social workers</td>\n",
       "    </tr>\n",
       "  </tbody>\n",
       "</table>\n",
       "</div>"
      ],
      "text/plain": [
       "         tucaseid  SEX  AGE  WEEKLY_EARNINGS  WEEKLY_HRS  HOURLY_WAGE  OCC_ID  \\\n",
       "0  20131212131341    1   26          2692.30          30    89.743333     410   \n",
       "1  20131110131932    1   27           826.92          10    82.692000     430   \n",
       "2  20130112121213    2   29          2884.61          40    72.115250    3250   \n",
       "3  20130111122022    2   27          2800.00          45    62.222222     310   \n",
       "4  20131211130773    2   28          2480.00          40    62.000000    2010   \n",
       "\n",
       "                                            JOB_DESC  \n",
       "0  Property, real estate, and community associati...  \n",
       "1                                Managers, all other  \n",
       "2                                      Veterinarians  \n",
       "3                              Food service managers  \n",
       "4                                     Social workers  "
      ]
     },
     "execution_count": 775,
     "metadata": {},
     "output_type": "execute_result"
    }
   ],
   "source": [
    "highest_wages_20_jobID"
   ]
  },
  {
   "cell_type": "markdown",
   "metadata": {},
   "source": [
    "#Next lets look at the activities in the different age groups"
   ]
  },
  {
   "cell_type": "code",
   "execution_count": 601,
   "metadata": {
    "collapsed": false
   },
   "outputs": [],
   "source": [
    "top10_activities = pd.merge(top_10_w_jobID, activities, left_on=\"tucaseid\", right_on=\"TUCASEID\")"
   ]
  },
  {
   "cell_type": "code",
   "execution_count": null,
   "metadata": {
    "collapsed": true
   },
   "outputs": [],
   "source": [
    "top10_activities = top10_activities.drop('TUCASEID', 1)"
   ]
  },
  {
   "cell_type": "code",
   "execution_count": null,
   "metadata": {
    "collapsed": true
   },
   "outputs": [],
   "source": [
    "top10_activ_codes = top10_activ_codes[ top10_activ_codes['TUTIER1CODE'] == 12]"
   ]
  },
  {
   "cell_type": "code",
   "execution_count": 857,
   "metadata": {
    "collapsed": false
   },
   "outputs": [],
   "source": [
    "highest_wages_50_jobID_act = pd.merge(highest_wages_50_jobID, activities, left_on=\"tucaseid\", right_on=\"TUCASEID\")\n",
    "highest_wages_50_jobID_act = highest_wages_50_jobID_act.drop('TUCASEID', 1)\n",
    "highest_wages_50_jobID_act = highest_wages_50_jobID_act[['tucaseid','SEX','AGE','WEEKLY_EARNINGS','HOURLY_WAGE', 'WEEKLY_HRS',\n",
    "                                      'JOB_DESC','TRCODE','TUTIER1CODE','TUCUMDUR']]\n",
    "highest_wages_50_jobID_act = highest_wages_50_jobID_act[ highest_wages_50_jobID_act['TUTIER1CODE'] == 12]\n",
    "highest_wages_50_jobID_act = highest_wages_50_jobID_act.drop('TUTIER1CODE', 1)"
   ]
  },
  {
   "cell_type": "code",
   "execution_count": 858,
   "metadata": {
    "collapsed": false
   },
   "outputs": [
    {
     "data": {
      "text/html": [
       "<div>\n",
       "<table border=\"1\" class=\"dataframe\">\n",
       "  <thead>\n",
       "    <tr style=\"text-align: right;\">\n",
       "      <th></th>\n",
       "      <th>tucaseid</th>\n",
       "      <th>SEX</th>\n",
       "      <th>AGE</th>\n",
       "      <th>WEEKLY_EARNINGS</th>\n",
       "      <th>HOURLY_WAGE</th>\n",
       "      <th>WEEKLY_HRS</th>\n",
       "      <th>JOB_DESC</th>\n",
       "      <th>TRCODE</th>\n",
       "      <th>TUCUMDUR</th>\n",
       "    </tr>\n",
       "  </thead>\n",
       "  <tbody>\n",
       "    <tr>\n",
       "      <th>14</th>\n",
       "      <td>20130705131466</td>\n",
       "      <td>2</td>\n",
       "      <td>56</td>\n",
       "      <td>440.00</td>\n",
       "      <td>110.000000</td>\n",
       "      <td>4</td>\n",
       "      <td>Other teachers and instructors</td>\n",
       "      <td>120303</td>\n",
       "      <td>1095</td>\n",
       "    </tr>\n",
       "    <tr>\n",
       "      <th>21</th>\n",
       "      <td>20130807130925</td>\n",
       "      <td>1</td>\n",
       "      <td>53</td>\n",
       "      <td>2884.61</td>\n",
       "      <td>96.153667</td>\n",
       "      <td>30</td>\n",
       "      <td>Dentists</td>\n",
       "      <td>120307</td>\n",
       "      <td>240</td>\n",
       "    </tr>\n",
       "    <tr>\n",
       "      <th>31</th>\n",
       "      <td>20130807130925</td>\n",
       "      <td>1</td>\n",
       "      <td>53</td>\n",
       "      <td>2884.61</td>\n",
       "      <td>96.153667</td>\n",
       "      <td>30</td>\n",
       "      <td>Dentists</td>\n",
       "      <td>120312</td>\n",
       "      <td>775</td>\n",
       "    </tr>\n",
       "    <tr>\n",
       "      <th>34</th>\n",
       "      <td>20130807130925</td>\n",
       "      <td>1</td>\n",
       "      <td>53</td>\n",
       "      <td>2884.61</td>\n",
       "      <td>96.153667</td>\n",
       "      <td>30</td>\n",
       "      <td>Dentists</td>\n",
       "      <td>120303</td>\n",
       "      <td>1020</td>\n",
       "    </tr>\n",
       "    <tr>\n",
       "      <th>40</th>\n",
       "      <td>20130706131014</td>\n",
       "      <td>1</td>\n",
       "      <td>56</td>\n",
       "      <td>1153.84</td>\n",
       "      <td>96.153333</td>\n",
       "      <td>12</td>\n",
       "      <td>Driver/sales workers and truck drivers</td>\n",
       "      <td>120303</td>\n",
       "      <td>1080</td>\n",
       "    </tr>\n",
       "    <tr>\n",
       "      <th>59</th>\n",
       "      <td>20130706131821</td>\n",
       "      <td>2</td>\n",
       "      <td>58</td>\n",
       "      <td>769.00</td>\n",
       "      <td>96.125000</td>\n",
       "      <td>8</td>\n",
       "      <td>Miscellaneous legal support workers</td>\n",
       "      <td>120101</td>\n",
       "      <td>909</td>\n",
       "    </tr>\n",
       "    <tr>\n",
       "      <th>65</th>\n",
       "      <td>20130706131821</td>\n",
       "      <td>2</td>\n",
       "      <td>58</td>\n",
       "      <td>769.00</td>\n",
       "      <td>96.125000</td>\n",
       "      <td>8</td>\n",
       "      <td>Miscellaneous legal support workers</td>\n",
       "      <td>120312</td>\n",
       "      <td>1114</td>\n",
       "    </tr>\n",
       "    <tr>\n",
       "      <th>79</th>\n",
       "      <td>20130908130648</td>\n",
       "      <td>2</td>\n",
       "      <td>53</td>\n",
       "      <td>2884.61</td>\n",
       "      <td>84.841471</td>\n",
       "      <td>34</td>\n",
       "      <td>Physicians and surgeons</td>\n",
       "      <td>120301</td>\n",
       "      <td>1060</td>\n",
       "    </tr>\n",
       "  </tbody>\n",
       "</table>\n",
       "</div>"
      ],
      "text/plain": [
       "          tucaseid  SEX  AGE  WEEKLY_EARNINGS  HOURLY_WAGE  WEEKLY_HRS  \\\n",
       "14  20130705131466    2   56           440.00   110.000000           4   \n",
       "21  20130807130925    1   53          2884.61    96.153667          30   \n",
       "31  20130807130925    1   53          2884.61    96.153667          30   \n",
       "34  20130807130925    1   53          2884.61    96.153667          30   \n",
       "40  20130706131014    1   56          1153.84    96.153333          12   \n",
       "59  20130706131821    2   58           769.00    96.125000           8   \n",
       "65  20130706131821    2   58           769.00    96.125000           8   \n",
       "79  20130908130648    2   53          2884.61    84.841471          34   \n",
       "\n",
       "                                  JOB_DESC  TRCODE  TUCUMDUR  \n",
       "14          Other teachers and instructors  120303      1095  \n",
       "21                                Dentists  120307       240  \n",
       "31                                Dentists  120312       775  \n",
       "34                                Dentists  120303      1020  \n",
       "40  Driver/sales workers and truck drivers  120303      1080  \n",
       "59     Miscellaneous legal support workers  120101       909  \n",
       "65     Miscellaneous legal support workers  120312      1114  \n",
       "79                 Physicians and surgeons  120301      1060  "
      ]
     },
     "execution_count": 858,
     "metadata": {},
     "output_type": "execute_result"
    }
   ],
   "source": [
    "highest_wages_50_jobID_act"
   ]
  },
  {
   "cell_type": "code",
   "execution_count": 859,
   "metadata": {
    "collapsed": false
   },
   "outputs": [],
   "source": [
    "highest_wages_40_jobID_act = pd.merge(highest_wages_40_jobID, activities, left_on=\"tucaseid\", right_on=\"TUCASEID\")\n",
    "highest_wages_40_jobID_act = highest_wages_40_jobID_act.drop('TUCASEID', 1)\n",
    "highest_wages_40_jobID_act = highest_wages_40_jobID_act[['tucaseid','SEX','AGE','WEEKLY_EARNINGS','HOURLY_WAGE', 'WEEKLY_HRS',\n",
    "                                      'JOB_DESC','TRCODE','TUTIER1CODE','TUCUMDUR']]\n",
    "highest_wages_40_jobID_act = highest_wages_40_jobID_act[ highest_wages_40_jobID_act['TUTIER1CODE'] == 12]\n",
    "highest_wages_40_jobID_act = highest_wages_40_jobID_act.drop('TUTIER1CODE', 1)"
   ]
  },
  {
   "cell_type": "code",
   "execution_count": 860,
   "metadata": {
    "collapsed": false
   },
   "outputs": [
    {
     "data": {
      "text/html": [
       "<div>\n",
       "<table border=\"1\" class=\"dataframe\">\n",
       "  <thead>\n",
       "    <tr style=\"text-align: right;\">\n",
       "      <th></th>\n",
       "      <th>tucaseid</th>\n",
       "      <th>SEX</th>\n",
       "      <th>AGE</th>\n",
       "      <th>WEEKLY_EARNINGS</th>\n",
       "      <th>HOURLY_WAGE</th>\n",
       "      <th>WEEKLY_HRS</th>\n",
       "      <th>JOB_DESC</th>\n",
       "      <th>TRCODE</th>\n",
       "      <th>TUCUMDUR</th>\n",
       "    </tr>\n",
       "  </thead>\n",
       "  <tbody>\n",
       "    <tr>\n",
       "      <th>3</th>\n",
       "      <td>20130404130168</td>\n",
       "      <td>2</td>\n",
       "      <td>49</td>\n",
       "      <td>1000.00</td>\n",
       "      <td>125.000000</td>\n",
       "      <td>8</td>\n",
       "      <td>Flight attendants: Transportation and material...</td>\n",
       "      <td>120303</td>\n",
       "      <td>270</td>\n",
       "    </tr>\n",
       "    <tr>\n",
       "      <th>9</th>\n",
       "      <td>20130404130168</td>\n",
       "      <td>2</td>\n",
       "      <td>49</td>\n",
       "      <td>1000.00</td>\n",
       "      <td>125.000000</td>\n",
       "      <td>8</td>\n",
       "      <td>Flight attendants: Transportation and material...</td>\n",
       "      <td>120101</td>\n",
       "      <td>520</td>\n",
       "    </tr>\n",
       "    <tr>\n",
       "      <th>16</th>\n",
       "      <td>20130404130168</td>\n",
       "      <td>2</td>\n",
       "      <td>49</td>\n",
       "      <td>1000.00</td>\n",
       "      <td>125.000000</td>\n",
       "      <td>8</td>\n",
       "      <td>Flight attendants: Transportation and material...</td>\n",
       "      <td>120101</td>\n",
       "      <td>625</td>\n",
       "    </tr>\n",
       "    <tr>\n",
       "      <th>20</th>\n",
       "      <td>20130404130168</td>\n",
       "      <td>2</td>\n",
       "      <td>49</td>\n",
       "      <td>1000.00</td>\n",
       "      <td>125.000000</td>\n",
       "      <td>8</td>\n",
       "      <td>Flight attendants: Transportation and material...</td>\n",
       "      <td>120101</td>\n",
       "      <td>780</td>\n",
       "    </tr>\n",
       "    <tr>\n",
       "      <th>23</th>\n",
       "      <td>20130404130168</td>\n",
       "      <td>2</td>\n",
       "      <td>49</td>\n",
       "      <td>1000.00</td>\n",
       "      <td>125.000000</td>\n",
       "      <td>8</td>\n",
       "      <td>Flight attendants: Transportation and material...</td>\n",
       "      <td>120308</td>\n",
       "      <td>812</td>\n",
       "    </tr>\n",
       "    <tr>\n",
       "      <th>32</th>\n",
       "      <td>20130404130168</td>\n",
       "      <td>2</td>\n",
       "      <td>49</td>\n",
       "      <td>1000.00</td>\n",
       "      <td>125.000000</td>\n",
       "      <td>8</td>\n",
       "      <td>Flight attendants: Transportation and material...</td>\n",
       "      <td>120308</td>\n",
       "      <td>989</td>\n",
       "    </tr>\n",
       "    <tr>\n",
       "      <th>34</th>\n",
       "      <td>20130404130168</td>\n",
       "      <td>2</td>\n",
       "      <td>49</td>\n",
       "      <td>1000.00</td>\n",
       "      <td>125.000000</td>\n",
       "      <td>8</td>\n",
       "      <td>Flight attendants: Transportation and material...</td>\n",
       "      <td>120101</td>\n",
       "      <td>1051</td>\n",
       "    </tr>\n",
       "    <tr>\n",
       "      <th>35</th>\n",
       "      <td>20130404130168</td>\n",
       "      <td>2</td>\n",
       "      <td>49</td>\n",
       "      <td>1000.00</td>\n",
       "      <td>125.000000</td>\n",
       "      <td>8</td>\n",
       "      <td>Flight attendants: Transportation and material...</td>\n",
       "      <td>120312</td>\n",
       "      <td>1111</td>\n",
       "    </tr>\n",
       "    <tr>\n",
       "      <th>36</th>\n",
       "      <td>20130404130168</td>\n",
       "      <td>2</td>\n",
       "      <td>49</td>\n",
       "      <td>1000.00</td>\n",
       "      <td>125.000000</td>\n",
       "      <td>8</td>\n",
       "      <td>Flight attendants: Transportation and material...</td>\n",
       "      <td>120303</td>\n",
       "      <td>1141</td>\n",
       "    </tr>\n",
       "    <tr>\n",
       "      <th>53</th>\n",
       "      <td>20130504132472</td>\n",
       "      <td>2</td>\n",
       "      <td>42</td>\n",
       "      <td>2884.61</td>\n",
       "      <td>103.021786</td>\n",
       "      <td>28</td>\n",
       "      <td>Teacher assistants: Education, training, and l...</td>\n",
       "      <td>120101</td>\n",
       "      <td>990</td>\n",
       "    </tr>\n",
       "    <tr>\n",
       "      <th>66</th>\n",
       "      <td>20130909131967</td>\n",
       "      <td>2</td>\n",
       "      <td>42</td>\n",
       "      <td>800.00</td>\n",
       "      <td>100.000000</td>\n",
       "      <td>8</td>\n",
       "      <td>Industrial truck and tractor operators</td>\n",
       "      <td>120101</td>\n",
       "      <td>360</td>\n",
       "    </tr>\n",
       "    <tr>\n",
       "      <th>73</th>\n",
       "      <td>20130909131967</td>\n",
       "      <td>2</td>\n",
       "      <td>42</td>\n",
       "      <td>800.00</td>\n",
       "      <td>100.000000</td>\n",
       "      <td>8</td>\n",
       "      <td>Industrial truck and tractor operators</td>\n",
       "      <td>120101</td>\n",
       "      <td>645</td>\n",
       "    </tr>\n",
       "    <tr>\n",
       "      <th>75</th>\n",
       "      <td>20130909131967</td>\n",
       "      <td>2</td>\n",
       "      <td>42</td>\n",
       "      <td>800.00</td>\n",
       "      <td>100.000000</td>\n",
       "      <td>8</td>\n",
       "      <td>Industrial truck and tractor operators</td>\n",
       "      <td>120101</td>\n",
       "      <td>690</td>\n",
       "    </tr>\n",
       "    <tr>\n",
       "      <th>78</th>\n",
       "      <td>20130909131967</td>\n",
       "      <td>2</td>\n",
       "      <td>42</td>\n",
       "      <td>800.00</td>\n",
       "      <td>100.000000</td>\n",
       "      <td>8</td>\n",
       "      <td>Industrial truck and tractor operators</td>\n",
       "      <td>120101</td>\n",
       "      <td>885</td>\n",
       "    </tr>\n",
       "    <tr>\n",
       "      <th>80</th>\n",
       "      <td>20130909131967</td>\n",
       "      <td>2</td>\n",
       "      <td>42</td>\n",
       "      <td>800.00</td>\n",
       "      <td>100.000000</td>\n",
       "      <td>8</td>\n",
       "      <td>Industrial truck and tractor operators</td>\n",
       "      <td>120301</td>\n",
       "      <td>930</td>\n",
       "    </tr>\n",
       "    <tr>\n",
       "      <th>83</th>\n",
       "      <td>20130909131967</td>\n",
       "      <td>2</td>\n",
       "      <td>42</td>\n",
       "      <td>800.00</td>\n",
       "      <td>100.000000</td>\n",
       "      <td>8</td>\n",
       "      <td>Industrial truck and tractor operators</td>\n",
       "      <td>120303</td>\n",
       "      <td>1020</td>\n",
       "    </tr>\n",
       "    <tr>\n",
       "      <th>88</th>\n",
       "      <td>20130201131419</td>\n",
       "      <td>1</td>\n",
       "      <td>47</td>\n",
       "      <td>2884.61</td>\n",
       "      <td>82.417429</td>\n",
       "      <td>35</td>\n",
       "      <td>Elementary and middle school teachers</td>\n",
       "      <td>120303</td>\n",
       "      <td>720</td>\n",
       "    </tr>\n",
       "    <tr>\n",
       "      <th>89</th>\n",
       "      <td>20130201131419</td>\n",
       "      <td>1</td>\n",
       "      <td>47</td>\n",
       "      <td>2884.61</td>\n",
       "      <td>82.417429</td>\n",
       "      <td>35</td>\n",
       "      <td>Elementary and middle school teachers</td>\n",
       "      <td>120101</td>\n",
       "      <td>780</td>\n",
       "    </tr>\n",
       "    <tr>\n",
       "      <th>90</th>\n",
       "      <td>20130201131419</td>\n",
       "      <td>1</td>\n",
       "      <td>47</td>\n",
       "      <td>2884.61</td>\n",
       "      <td>82.417429</td>\n",
       "      <td>35</td>\n",
       "      <td>Elementary and middle school teachers</td>\n",
       "      <td>120303</td>\n",
       "      <td>840</td>\n",
       "    </tr>\n",
       "    <tr>\n",
       "      <th>93</th>\n",
       "      <td>20130201131419</td>\n",
       "      <td>1</td>\n",
       "      <td>47</td>\n",
       "      <td>2884.61</td>\n",
       "      <td>82.417429</td>\n",
       "      <td>35</td>\n",
       "      <td>Elementary and middle school teachers</td>\n",
       "      <td>120303</td>\n",
       "      <td>960</td>\n",
       "    </tr>\n",
       "    <tr>\n",
       "      <th>94</th>\n",
       "      <td>20130201131419</td>\n",
       "      <td>1</td>\n",
       "      <td>47</td>\n",
       "      <td>2884.61</td>\n",
       "      <td>82.417429</td>\n",
       "      <td>35</td>\n",
       "      <td>Elementary and middle school teachers</td>\n",
       "      <td>120101</td>\n",
       "      <td>1080</td>\n",
       "    </tr>\n",
       "    <tr>\n",
       "      <th>96</th>\n",
       "      <td>20130201131419</td>\n",
       "      <td>1</td>\n",
       "      <td>47</td>\n",
       "      <td>2884.61</td>\n",
       "      <td>82.417429</td>\n",
       "      <td>35</td>\n",
       "      <td>Elementary and middle school teachers</td>\n",
       "      <td>120101</td>\n",
       "      <td>1200</td>\n",
       "    </tr>\n",
       "    <tr>\n",
       "      <th>109</th>\n",
       "      <td>20130807131178</td>\n",
       "      <td>2</td>\n",
       "      <td>42</td>\n",
       "      <td>2884.61</td>\n",
       "      <td>80.128056</td>\n",
       "      <td>36</td>\n",
       "      <td>Registered nurses</td>\n",
       "      <td>120201</td>\n",
       "      <td>810</td>\n",
       "    </tr>\n",
       "    <tr>\n",
       "      <th>111</th>\n",
       "      <td>20130807131178</td>\n",
       "      <td>2</td>\n",
       "      <td>42</td>\n",
       "      <td>2884.61</td>\n",
       "      <td>80.128056</td>\n",
       "      <td>36</td>\n",
       "      <td>Registered nurses</td>\n",
       "      <td>120201</td>\n",
       "      <td>1020</td>\n",
       "    </tr>\n",
       "  </tbody>\n",
       "</table>\n",
       "</div>"
      ],
      "text/plain": [
       "           tucaseid  SEX  AGE  WEEKLY_EARNINGS  HOURLY_WAGE  WEEKLY_HRS  \\\n",
       "3    20130404130168    2   49          1000.00   125.000000           8   \n",
       "9    20130404130168    2   49          1000.00   125.000000           8   \n",
       "16   20130404130168    2   49          1000.00   125.000000           8   \n",
       "20   20130404130168    2   49          1000.00   125.000000           8   \n",
       "23   20130404130168    2   49          1000.00   125.000000           8   \n",
       "32   20130404130168    2   49          1000.00   125.000000           8   \n",
       "34   20130404130168    2   49          1000.00   125.000000           8   \n",
       "35   20130404130168    2   49          1000.00   125.000000           8   \n",
       "36   20130404130168    2   49          1000.00   125.000000           8   \n",
       "53   20130504132472    2   42          2884.61   103.021786          28   \n",
       "66   20130909131967    2   42           800.00   100.000000           8   \n",
       "73   20130909131967    2   42           800.00   100.000000           8   \n",
       "75   20130909131967    2   42           800.00   100.000000           8   \n",
       "78   20130909131967    2   42           800.00   100.000000           8   \n",
       "80   20130909131967    2   42           800.00   100.000000           8   \n",
       "83   20130909131967    2   42           800.00   100.000000           8   \n",
       "88   20130201131419    1   47          2884.61    82.417429          35   \n",
       "89   20130201131419    1   47          2884.61    82.417429          35   \n",
       "90   20130201131419    1   47          2884.61    82.417429          35   \n",
       "93   20130201131419    1   47          2884.61    82.417429          35   \n",
       "94   20130201131419    1   47          2884.61    82.417429          35   \n",
       "96   20130201131419    1   47          2884.61    82.417429          35   \n",
       "109  20130807131178    2   42          2884.61    80.128056          36   \n",
       "111  20130807131178    2   42          2884.61    80.128056          36   \n",
       "\n",
       "                                              JOB_DESC  TRCODE  TUCUMDUR  \n",
       "3    Flight attendants: Transportation and material...  120303       270  \n",
       "9    Flight attendants: Transportation and material...  120101       520  \n",
       "16   Flight attendants: Transportation and material...  120101       625  \n",
       "20   Flight attendants: Transportation and material...  120101       780  \n",
       "23   Flight attendants: Transportation and material...  120308       812  \n",
       "32   Flight attendants: Transportation and material...  120308       989  \n",
       "34   Flight attendants: Transportation and material...  120101      1051  \n",
       "35   Flight attendants: Transportation and material...  120312      1111  \n",
       "36   Flight attendants: Transportation and material...  120303      1141  \n",
       "53   Teacher assistants: Education, training, and l...  120101       990  \n",
       "66              Industrial truck and tractor operators  120101       360  \n",
       "73              Industrial truck and tractor operators  120101       645  \n",
       "75              Industrial truck and tractor operators  120101       690  \n",
       "78              Industrial truck and tractor operators  120101       885  \n",
       "80              Industrial truck and tractor operators  120301       930  \n",
       "83              Industrial truck and tractor operators  120303      1020  \n",
       "88               Elementary and middle school teachers  120303       720  \n",
       "89               Elementary and middle school teachers  120101       780  \n",
       "90               Elementary and middle school teachers  120303       840  \n",
       "93               Elementary and middle school teachers  120303       960  \n",
       "94               Elementary and middle school teachers  120101      1080  \n",
       "96               Elementary and middle school teachers  120101      1200  \n",
       "109                                  Registered nurses  120201       810  \n",
       "111                                  Registered nurses  120201      1020  "
      ]
     },
     "execution_count": 860,
     "metadata": {},
     "output_type": "execute_result"
    }
   ],
   "source": [
    "highest_wages_40_jobID_act"
   ]
  },
  {
   "cell_type": "code",
   "execution_count": 861,
   "metadata": {
    "collapsed": true
   },
   "outputs": [],
   "source": [
    "highest_wages_30_jobID_act = pd.merge(highest_wages_30_jobID, activities, left_on=\"tucaseid\", right_on=\"TUCASEID\")\n",
    "highest_wages_30_jobID_act = highest_wages_30_jobID_act.drop('TUCASEID', 1)\n",
    "highest_wages_30_jobID_act = highest_wages_30_jobID_act[['tucaseid','SEX','AGE','WEEKLY_EARNINGS','HOURLY_WAGE', 'WEEKLY_HRS',\n",
    "                                      'JOB_DESC','TRCODE','TUTIER1CODE','TUCUMDUR']]\n",
    "highest_wages_30_jobID_act = highest_wages_30_jobID_act[ highest_wages_30_jobID_act['TUTIER1CODE'] == 12]\n",
    "highest_wages_30_jobID_act = highest_wages_30_jobID_act.drop('TUTIER1CODE', 1)"
   ]
  },
  {
   "cell_type": "code",
   "execution_count": 862,
   "metadata": {
    "collapsed": false
   },
   "outputs": [
    {
     "data": {
      "text/html": [
       "<div>\n",
       "<table border=\"1\" class=\"dataframe\">\n",
       "  <thead>\n",
       "    <tr style=\"text-align: right;\">\n",
       "      <th></th>\n",
       "      <th>tucaseid</th>\n",
       "      <th>SEX</th>\n",
       "      <th>AGE</th>\n",
       "      <th>WEEKLY_EARNINGS</th>\n",
       "      <th>HOURLY_WAGE</th>\n",
       "      <th>WEEKLY_HRS</th>\n",
       "      <th>JOB_DESC</th>\n",
       "      <th>TRCODE</th>\n",
       "      <th>TUCUMDUR</th>\n",
       "    </tr>\n",
       "  </thead>\n",
       "  <tbody>\n",
       "    <tr>\n",
       "      <th>14</th>\n",
       "      <td>20130403132392</td>\n",
       "      <td>1</td>\n",
       "      <td>31</td>\n",
       "      <td>1365.38</td>\n",
       "      <td>341.345000</td>\n",
       "      <td>4</td>\n",
       "      <td>Electrical and electronics engineers: Architec...</td>\n",
       "      <td>120303</td>\n",
       "      <td>840</td>\n",
       "    </tr>\n",
       "    <tr>\n",
       "      <th>17</th>\n",
       "      <td>20130403132392</td>\n",
       "      <td>1</td>\n",
       "      <td>31</td>\n",
       "      <td>1365.38</td>\n",
       "      <td>341.345000</td>\n",
       "      <td>4</td>\n",
       "      <td>Electrical and electronics engineers: Architec...</td>\n",
       "      <td>120303</td>\n",
       "      <td>1080</td>\n",
       "    </tr>\n",
       "    <tr>\n",
       "      <th>36</th>\n",
       "      <td>20130706132155</td>\n",
       "      <td>2</td>\n",
       "      <td>30</td>\n",
       "      <td>2416.00</td>\n",
       "      <td>120.800000</td>\n",
       "      <td>20</td>\n",
       "      <td>Teacher assistants: Education, training, and l...</td>\n",
       "      <td>120312</td>\n",
       "      <td>760</td>\n",
       "    </tr>\n",
       "    <tr>\n",
       "      <th>41</th>\n",
       "      <td>20130706132155</td>\n",
       "      <td>2</td>\n",
       "      <td>30</td>\n",
       "      <td>2416.00</td>\n",
       "      <td>120.800000</td>\n",
       "      <td>20</td>\n",
       "      <td>Teacher assistants: Education, training, and l...</td>\n",
       "      <td>120101</td>\n",
       "      <td>920</td>\n",
       "    </tr>\n",
       "    <tr>\n",
       "      <th>42</th>\n",
       "      <td>20130706132155</td>\n",
       "      <td>2</td>\n",
       "      <td>30</td>\n",
       "      <td>2416.00</td>\n",
       "      <td>120.800000</td>\n",
       "      <td>20</td>\n",
       "      <td>Teacher assistants: Education, training, and l...</td>\n",
       "      <td>120303</td>\n",
       "      <td>1110</td>\n",
       "    </tr>\n",
       "    <tr>\n",
       "      <th>63</th>\n",
       "      <td>20130504130649</td>\n",
       "      <td>2</td>\n",
       "      <td>38</td>\n",
       "      <td>352.00</td>\n",
       "      <td>117.333333</td>\n",
       "      <td>3</td>\n",
       "      <td>Teacher assistants: Education, training, and l...</td>\n",
       "      <td>120101</td>\n",
       "      <td>1050</td>\n",
       "    </tr>\n",
       "    <tr>\n",
       "      <th>66</th>\n",
       "      <td>20130504130649</td>\n",
       "      <td>2</td>\n",
       "      <td>38</td>\n",
       "      <td>352.00</td>\n",
       "      <td>117.333333</td>\n",
       "      <td>3</td>\n",
       "      <td>Teacher assistants: Education, training, and l...</td>\n",
       "      <td>120101</td>\n",
       "      <td>1090</td>\n",
       "    </tr>\n",
       "    <tr>\n",
       "      <th>71</th>\n",
       "      <td>20130201132332</td>\n",
       "      <td>1</td>\n",
       "      <td>30</td>\n",
       "      <td>1632.00</td>\n",
       "      <td>102.000000</td>\n",
       "      <td>16</td>\n",
       "      <td>Painters, construction and maintenance</td>\n",
       "      <td>120303</td>\n",
       "      <td>600</td>\n",
       "    </tr>\n",
       "    <tr>\n",
       "      <th>75</th>\n",
       "      <td>20130201132332</td>\n",
       "      <td>1</td>\n",
       "      <td>30</td>\n",
       "      <td>1632.00</td>\n",
       "      <td>102.000000</td>\n",
       "      <td>16</td>\n",
       "      <td>Painters, construction and maintenance</td>\n",
       "      <td>120303</td>\n",
       "      <td>1140</td>\n",
       "    </tr>\n",
       "    <tr>\n",
       "      <th>85</th>\n",
       "      <td>20131210131602</td>\n",
       "      <td>1</td>\n",
       "      <td>33</td>\n",
       "      <td>2884.61</td>\n",
       "      <td>96.153667</td>\n",
       "      <td>30</td>\n",
       "      <td>Butchers and other meat, poultry, and fish pro...</td>\n",
       "      <td>120303</td>\n",
       "      <td>570</td>\n",
       "    </tr>\n",
       "    <tr>\n",
       "      <th>90</th>\n",
       "      <td>20131210131602</td>\n",
       "      <td>1</td>\n",
       "      <td>33</td>\n",
       "      <td>2884.61</td>\n",
       "      <td>96.153667</td>\n",
       "      <td>30</td>\n",
       "      <td>Butchers and other meat, poultry, and fish pro...</td>\n",
       "      <td>120303</td>\n",
       "      <td>660</td>\n",
       "    </tr>\n",
       "    <tr>\n",
       "      <th>91</th>\n",
       "      <td>20131210131602</td>\n",
       "      <td>1</td>\n",
       "      <td>33</td>\n",
       "      <td>2884.61</td>\n",
       "      <td>96.153667</td>\n",
       "      <td>30</td>\n",
       "      <td>Butchers and other meat, poultry, and fish pro...</td>\n",
       "      <td>120301</td>\n",
       "      <td>690</td>\n",
       "    </tr>\n",
       "    <tr>\n",
       "      <th>96</th>\n",
       "      <td>20131210131602</td>\n",
       "      <td>1</td>\n",
       "      <td>33</td>\n",
       "      <td>2884.61</td>\n",
       "      <td>96.153667</td>\n",
       "      <td>30</td>\n",
       "      <td>Butchers and other meat, poultry, and fish pro...</td>\n",
       "      <td>120303</td>\n",
       "      <td>780</td>\n",
       "    </tr>\n",
       "    <tr>\n",
       "      <th>103</th>\n",
       "      <td>20131210131602</td>\n",
       "      <td>1</td>\n",
       "      <td>33</td>\n",
       "      <td>2884.61</td>\n",
       "      <td>96.153667</td>\n",
       "      <td>30</td>\n",
       "      <td>Butchers and other meat, poultry, and fish pro...</td>\n",
       "      <td>120303</td>\n",
       "      <td>1045</td>\n",
       "    </tr>\n",
       "  </tbody>\n",
       "</table>\n",
       "</div>"
      ],
      "text/plain": [
       "           tucaseid  SEX  AGE  WEEKLY_EARNINGS  HOURLY_WAGE  WEEKLY_HRS  \\\n",
       "14   20130403132392    1   31          1365.38   341.345000           4   \n",
       "17   20130403132392    1   31          1365.38   341.345000           4   \n",
       "36   20130706132155    2   30          2416.00   120.800000          20   \n",
       "41   20130706132155    2   30          2416.00   120.800000          20   \n",
       "42   20130706132155    2   30          2416.00   120.800000          20   \n",
       "63   20130504130649    2   38           352.00   117.333333           3   \n",
       "66   20130504130649    2   38           352.00   117.333333           3   \n",
       "71   20130201132332    1   30          1632.00   102.000000          16   \n",
       "75   20130201132332    1   30          1632.00   102.000000          16   \n",
       "85   20131210131602    1   33          2884.61    96.153667          30   \n",
       "90   20131210131602    1   33          2884.61    96.153667          30   \n",
       "91   20131210131602    1   33          2884.61    96.153667          30   \n",
       "96   20131210131602    1   33          2884.61    96.153667          30   \n",
       "103  20131210131602    1   33          2884.61    96.153667          30   \n",
       "\n",
       "                                              JOB_DESC  TRCODE  TUCUMDUR  \n",
       "14   Electrical and electronics engineers: Architec...  120303       840  \n",
       "17   Electrical and electronics engineers: Architec...  120303      1080  \n",
       "36   Teacher assistants: Education, training, and l...  120312       760  \n",
       "41   Teacher assistants: Education, training, and l...  120101       920  \n",
       "42   Teacher assistants: Education, training, and l...  120303      1110  \n",
       "63   Teacher assistants: Education, training, and l...  120101      1050  \n",
       "66   Teacher assistants: Education, training, and l...  120101      1090  \n",
       "71              Painters, construction and maintenance  120303       600  \n",
       "75              Painters, construction and maintenance  120303      1140  \n",
       "85   Butchers and other meat, poultry, and fish pro...  120303       570  \n",
       "90   Butchers and other meat, poultry, and fish pro...  120303       660  \n",
       "91   Butchers and other meat, poultry, and fish pro...  120301       690  \n",
       "96   Butchers and other meat, poultry, and fish pro...  120303       780  \n",
       "103  Butchers and other meat, poultry, and fish pro...  120303      1045  "
      ]
     },
     "execution_count": 862,
     "metadata": {},
     "output_type": "execute_result"
    }
   ],
   "source": [
    "highest_wages_30_jobID_act"
   ]
  },
  {
   "cell_type": "code",
   "execution_count": 863,
   "metadata": {
    "collapsed": false
   },
   "outputs": [],
   "source": [
    "highest_wages_20_jobID_act = pd.merge(highest_wages_20_jobID, activities, left_on=\"tucaseid\", right_on=\"TUCASEID\")\n",
    "highest_wages_20_jobID_act = highest_wages_20_jobID_act.drop('TUCASEID', 1)\n",
    "highest_wages_20_jobID_act = highest_wages_20_jobID_act[['tucaseid','SEX','AGE','WEEKLY_EARNINGS','HOURLY_WAGE', 'WEEKLY_HRS',\n",
    "                                      'JOB_DESC','TRCODE','TUTIER1CODE','TUCUMDUR']]\n",
    "highest_wages_20_jobID_act = highest_wages_20_jobID_act[ highest_wages_20_jobID_act['TUTIER1CODE'] == 12]\n",
    "highest_wages_20_jobID_act = highest_wages_20_jobID_act.drop('TUTIER1CODE', 1)"
   ]
  },
  {
   "cell_type": "code",
   "execution_count": 864,
   "metadata": {
    "collapsed": false
   },
   "outputs": [
    {
     "data": {
      "text/html": [
       "<div>\n",
       "<table border=\"1\" class=\"dataframe\">\n",
       "  <thead>\n",
       "    <tr style=\"text-align: right;\">\n",
       "      <th></th>\n",
       "      <th>tucaseid</th>\n",
       "      <th>SEX</th>\n",
       "      <th>AGE</th>\n",
       "      <th>WEEKLY_EARNINGS</th>\n",
       "      <th>HOURLY_WAGE</th>\n",
       "      <th>WEEKLY_HRS</th>\n",
       "      <th>JOB_DESC</th>\n",
       "      <th>TRCODE</th>\n",
       "      <th>TUCUMDUR</th>\n",
       "    </tr>\n",
       "  </thead>\n",
       "  <tbody>\n",
       "    <tr>\n",
       "      <th>12</th>\n",
       "      <td>20131212131341</td>\n",
       "      <td>1</td>\n",
       "      <td>26</td>\n",
       "      <td>2692.30</td>\n",
       "      <td>89.743333</td>\n",
       "      <td>30</td>\n",
       "      <td>Property, real estate, and community associati...</td>\n",
       "      <td>120301</td>\n",
       "      <td>710</td>\n",
       "    </tr>\n",
       "    <tr>\n",
       "      <th>16</th>\n",
       "      <td>20131212131341</td>\n",
       "      <td>1</td>\n",
       "      <td>26</td>\n",
       "      <td>2692.30</td>\n",
       "      <td>89.743333</td>\n",
       "      <td>30</td>\n",
       "      <td>Property, real estate, and community associati...</td>\n",
       "      <td>120301</td>\n",
       "      <td>890</td>\n",
       "    </tr>\n",
       "    <tr>\n",
       "      <th>19</th>\n",
       "      <td>20131212131341</td>\n",
       "      <td>1</td>\n",
       "      <td>26</td>\n",
       "      <td>2692.30</td>\n",
       "      <td>89.743333</td>\n",
       "      <td>30</td>\n",
       "      <td>Property, real estate, and community associati...</td>\n",
       "      <td>120101</td>\n",
       "      <td>1320</td>\n",
       "    </tr>\n",
       "    <tr>\n",
       "      <th>26</th>\n",
       "      <td>20131110131932</td>\n",
       "      <td>1</td>\n",
       "      <td>27</td>\n",
       "      <td>826.92</td>\n",
       "      <td>82.692000</td>\n",
       "      <td>10</td>\n",
       "      <td>Managers, all other</td>\n",
       "      <td>120303</td>\n",
       "      <td>420</td>\n",
       "    </tr>\n",
       "    <tr>\n",
       "      <th>28</th>\n",
       "      <td>20131110131932</td>\n",
       "      <td>1</td>\n",
       "      <td>27</td>\n",
       "      <td>826.92</td>\n",
       "      <td>82.692000</td>\n",
       "      <td>10</td>\n",
       "      <td>Managers, all other</td>\n",
       "      <td>120303</td>\n",
       "      <td>540</td>\n",
       "    </tr>\n",
       "    <tr>\n",
       "      <th>37</th>\n",
       "      <td>20131110131932</td>\n",
       "      <td>1</td>\n",
       "      <td>27</td>\n",
       "      <td>826.92</td>\n",
       "      <td>82.692000</td>\n",
       "      <td>10</td>\n",
       "      <td>Managers, all other</td>\n",
       "      <td>120303</td>\n",
       "      <td>1125</td>\n",
       "    </tr>\n",
       "    <tr>\n",
       "      <th>50</th>\n",
       "      <td>20130112121213</td>\n",
       "      <td>2</td>\n",
       "      <td>29</td>\n",
       "      <td>2884.61</td>\n",
       "      <td>72.115250</td>\n",
       "      <td>40</td>\n",
       "      <td>Veterinarians</td>\n",
       "      <td>120303</td>\n",
       "      <td>1110</td>\n",
       "    </tr>\n",
       "    <tr>\n",
       "      <th>75</th>\n",
       "      <td>20131211130773</td>\n",
       "      <td>2</td>\n",
       "      <td>28</td>\n",
       "      <td>2480.00</td>\n",
       "      <td>62.000000</td>\n",
       "      <td>40</td>\n",
       "      <td>Social workers</td>\n",
       "      <td>120301</td>\n",
       "      <td>375</td>\n",
       "    </tr>\n",
       "    <tr>\n",
       "      <th>89</th>\n",
       "      <td>20131211130773</td>\n",
       "      <td>2</td>\n",
       "      <td>28</td>\n",
       "      <td>2480.00</td>\n",
       "      <td>62.000000</td>\n",
       "      <td>40</td>\n",
       "      <td>Social workers</td>\n",
       "      <td>120301</td>\n",
       "      <td>1080</td>\n",
       "    </tr>\n",
       "  </tbody>\n",
       "</table>\n",
       "</div>"
      ],
      "text/plain": [
       "          tucaseid  SEX  AGE  WEEKLY_EARNINGS  HOURLY_WAGE  WEEKLY_HRS  \\\n",
       "12  20131212131341    1   26          2692.30    89.743333          30   \n",
       "16  20131212131341    1   26          2692.30    89.743333          30   \n",
       "19  20131212131341    1   26          2692.30    89.743333          30   \n",
       "26  20131110131932    1   27           826.92    82.692000          10   \n",
       "28  20131110131932    1   27           826.92    82.692000          10   \n",
       "37  20131110131932    1   27           826.92    82.692000          10   \n",
       "50  20130112121213    2   29          2884.61    72.115250          40   \n",
       "75  20131211130773    2   28          2480.00    62.000000          40   \n",
       "89  20131211130773    2   28          2480.00    62.000000          40   \n",
       "\n",
       "                                             JOB_DESC  TRCODE  TUCUMDUR  \n",
       "12  Property, real estate, and community associati...  120301       710  \n",
       "16  Property, real estate, and community associati...  120301       890  \n",
       "19  Property, real estate, and community associati...  120101      1320  \n",
       "26                                Managers, all other  120303       420  \n",
       "28                                Managers, all other  120303       540  \n",
       "37                                Managers, all other  120303      1125  \n",
       "50                                      Veterinarians  120303      1110  \n",
       "75                                     Social workers  120301       375  \n",
       "89                                     Social workers  120301      1080  "
      ]
     },
     "execution_count": 864,
     "metadata": {},
     "output_type": "execute_result"
    }
   ],
   "source": [
    "highest_wages_20_jobID_act"
   ]
  },
  {
   "cell_type": "code",
   "execution_count": 865,
   "metadata": {
    "collapsed": false
   },
   "outputs": [],
   "source": [
    "LEISURE = pd.Series({120101: \"Socializing and communicating with others\",\n",
    "                        120303: \"Television and movies (not religious)\",\n",
    "                        120301: \"Relaxing, thinking\",\n",
    "                        120499: \"Arts and entertainment, n.e.c.*\",\n",
    "                        120312: \"Reading for personal interest\",\n",
    "                        120308: \"Computer use for leisure (excluding games)\",\n",
    "                        120201: \"Attending or hosting parties/receptions/ceremonies\",\n",
    "                        120307: \"Playing games\"})"
   ]
  },
  {
   "cell_type": "code",
   "execution_count": 866,
   "metadata": {
    "collapsed": false
   },
   "outputs": [],
   "source": [
    "highest_wages_20_jobID_act['LEISURE_ACT'] = highest_wages_20_jobID_act.TRCODE.map(LEISURE)\n",
    "highest_wages_30_jobID_act['LEISURE_ACT'] = highest_wages_30_jobID_act.TRCODE.map(LEISURE)\n",
    "highest_wages_40_jobID_act['LEISURE_ACT'] = highest_wages_40_jobID_act.TRCODE.map(LEISURE)\n",
    "highest_wages_50_jobID_act['LEISURE_ACT'] = highest_wages_50_jobID_act.TRCODE.map(LEISURE)"
   ]
  },
  {
   "cell_type": "code",
   "execution_count": 867,
   "metadata": {
    "collapsed": false
   },
   "outputs": [],
   "source": [
    "highest_wages_20_jobID_act = highest_wages_20_jobID_act.drop('TRCODE',1)\n",
    "highest_wages_30_jobID_act = highest_wages_30_jobID_act.drop('TRCODE',1)\n",
    "highest_wages_40_jobID_act = highest_wages_40_jobID_act.drop('TRCODE',1)\n",
    "highest_wages_50_jobID_act = highest_wages_50_jobID_act.drop('TRCODE',1)"
   ]
  },
  {
   "cell_type": "code",
   "execution_count": 868,
   "metadata": {
    "collapsed": false
   },
   "outputs": [
    {
     "data": {
      "text/html": [
       "<div>\n",
       "<table border=\"1\" class=\"dataframe\">\n",
       "  <thead>\n",
       "    <tr style=\"text-align: right;\">\n",
       "      <th></th>\n",
       "      <th>tucaseid</th>\n",
       "      <th>SEX</th>\n",
       "      <th>AGE</th>\n",
       "      <th>WEEKLY_EARNINGS</th>\n",
       "      <th>HOURLY_WAGE</th>\n",
       "      <th>WEEKLY_HRS</th>\n",
       "      <th>JOB_DESC</th>\n",
       "      <th>TUCUMDUR</th>\n",
       "      <th>LEISURE_ACT</th>\n",
       "    </tr>\n",
       "  </thead>\n",
       "  <tbody>\n",
       "    <tr>\n",
       "      <th>12</th>\n",
       "      <td>20131212131341</td>\n",
       "      <td>1</td>\n",
       "      <td>26</td>\n",
       "      <td>2692.30</td>\n",
       "      <td>89.743333</td>\n",
       "      <td>30</td>\n",
       "      <td>Property, real estate, and community associati...</td>\n",
       "      <td>710</td>\n",
       "      <td>Relaxing, thinking</td>\n",
       "    </tr>\n",
       "    <tr>\n",
       "      <th>16</th>\n",
       "      <td>20131212131341</td>\n",
       "      <td>1</td>\n",
       "      <td>26</td>\n",
       "      <td>2692.30</td>\n",
       "      <td>89.743333</td>\n",
       "      <td>30</td>\n",
       "      <td>Property, real estate, and community associati...</td>\n",
       "      <td>890</td>\n",
       "      <td>Relaxing, thinking</td>\n",
       "    </tr>\n",
       "    <tr>\n",
       "      <th>19</th>\n",
       "      <td>20131212131341</td>\n",
       "      <td>1</td>\n",
       "      <td>26</td>\n",
       "      <td>2692.30</td>\n",
       "      <td>89.743333</td>\n",
       "      <td>30</td>\n",
       "      <td>Property, real estate, and community associati...</td>\n",
       "      <td>1320</td>\n",
       "      <td>Socializing and communicating with others</td>\n",
       "    </tr>\n",
       "    <tr>\n",
       "      <th>26</th>\n",
       "      <td>20131110131932</td>\n",
       "      <td>1</td>\n",
       "      <td>27</td>\n",
       "      <td>826.92</td>\n",
       "      <td>82.692000</td>\n",
       "      <td>10</td>\n",
       "      <td>Managers, all other</td>\n",
       "      <td>420</td>\n",
       "      <td>Television and movies (not religious)</td>\n",
       "    </tr>\n",
       "    <tr>\n",
       "      <th>28</th>\n",
       "      <td>20131110131932</td>\n",
       "      <td>1</td>\n",
       "      <td>27</td>\n",
       "      <td>826.92</td>\n",
       "      <td>82.692000</td>\n",
       "      <td>10</td>\n",
       "      <td>Managers, all other</td>\n",
       "      <td>540</td>\n",
       "      <td>Television and movies (not religious)</td>\n",
       "    </tr>\n",
       "    <tr>\n",
       "      <th>37</th>\n",
       "      <td>20131110131932</td>\n",
       "      <td>1</td>\n",
       "      <td>27</td>\n",
       "      <td>826.92</td>\n",
       "      <td>82.692000</td>\n",
       "      <td>10</td>\n",
       "      <td>Managers, all other</td>\n",
       "      <td>1125</td>\n",
       "      <td>Television and movies (not religious)</td>\n",
       "    </tr>\n",
       "    <tr>\n",
       "      <th>50</th>\n",
       "      <td>20130112121213</td>\n",
       "      <td>2</td>\n",
       "      <td>29</td>\n",
       "      <td>2884.61</td>\n",
       "      <td>72.115250</td>\n",
       "      <td>40</td>\n",
       "      <td>Veterinarians</td>\n",
       "      <td>1110</td>\n",
       "      <td>Television and movies (not religious)</td>\n",
       "    </tr>\n",
       "    <tr>\n",
       "      <th>75</th>\n",
       "      <td>20131211130773</td>\n",
       "      <td>2</td>\n",
       "      <td>28</td>\n",
       "      <td>2480.00</td>\n",
       "      <td>62.000000</td>\n",
       "      <td>40</td>\n",
       "      <td>Social workers</td>\n",
       "      <td>375</td>\n",
       "      <td>Relaxing, thinking</td>\n",
       "    </tr>\n",
       "    <tr>\n",
       "      <th>89</th>\n",
       "      <td>20131211130773</td>\n",
       "      <td>2</td>\n",
       "      <td>28</td>\n",
       "      <td>2480.00</td>\n",
       "      <td>62.000000</td>\n",
       "      <td>40</td>\n",
       "      <td>Social workers</td>\n",
       "      <td>1080</td>\n",
       "      <td>Relaxing, thinking</td>\n",
       "    </tr>\n",
       "  </tbody>\n",
       "</table>\n",
       "</div>"
      ],
      "text/plain": [
       "          tucaseid  SEX  AGE  WEEKLY_EARNINGS  HOURLY_WAGE  WEEKLY_HRS  \\\n",
       "12  20131212131341    1   26          2692.30    89.743333          30   \n",
       "16  20131212131341    1   26          2692.30    89.743333          30   \n",
       "19  20131212131341    1   26          2692.30    89.743333          30   \n",
       "26  20131110131932    1   27           826.92    82.692000          10   \n",
       "28  20131110131932    1   27           826.92    82.692000          10   \n",
       "37  20131110131932    1   27           826.92    82.692000          10   \n",
       "50  20130112121213    2   29          2884.61    72.115250          40   \n",
       "75  20131211130773    2   28          2480.00    62.000000          40   \n",
       "89  20131211130773    2   28          2480.00    62.000000          40   \n",
       "\n",
       "                                             JOB_DESC  TUCUMDUR  \\\n",
       "12  Property, real estate, and community associati...       710   \n",
       "16  Property, real estate, and community associati...       890   \n",
       "19  Property, real estate, and community associati...      1320   \n",
       "26                                Managers, all other       420   \n",
       "28                                Managers, all other       540   \n",
       "37                                Managers, all other      1125   \n",
       "50                                      Veterinarians      1110   \n",
       "75                                     Social workers       375   \n",
       "89                                     Social workers      1080   \n",
       "\n",
       "                                  LEISURE_ACT  \n",
       "12                         Relaxing, thinking  \n",
       "16                         Relaxing, thinking  \n",
       "19  Socializing and communicating with others  \n",
       "26      Television and movies (not religious)  \n",
       "28      Television and movies (not religious)  \n",
       "37      Television and movies (not religious)  \n",
       "50      Television and movies (not religious)  \n",
       "75                         Relaxing, thinking  \n",
       "89                         Relaxing, thinking  "
      ]
     },
     "execution_count": 868,
     "metadata": {},
     "output_type": "execute_result"
    }
   ],
   "source": [
    "highest_wages_20_jobID_act"
   ]
  },
  {
   "cell_type": "code",
   "execution_count": 870,
   "metadata": {
    "collapsed": false
   },
   "outputs": [
    {
     "data": {
      "text/html": [
       "<div>\n",
       "<table border=\"1\" class=\"dataframe\">\n",
       "  <thead>\n",
       "    <tr style=\"text-align: right;\">\n",
       "      <th></th>\n",
       "      <th>tucaseid</th>\n",
       "      <th>SEX</th>\n",
       "      <th>AGE</th>\n",
       "      <th>WEEKLY_EARNINGS</th>\n",
       "      <th>HOURLY_WAGE</th>\n",
       "      <th>WEEKLY_HRS</th>\n",
       "      <th>JOB_DESC</th>\n",
       "      <th>TUCUMDUR</th>\n",
       "      <th>LEISURE_ACT</th>\n",
       "    </tr>\n",
       "  </thead>\n",
       "  <tbody>\n",
       "    <tr>\n",
       "      <th>14</th>\n",
       "      <td>20130403132392</td>\n",
       "      <td>1</td>\n",
       "      <td>31</td>\n",
       "      <td>1365.38</td>\n",
       "      <td>341.345000</td>\n",
       "      <td>4</td>\n",
       "      <td>Electrical and electronics engineers: Architec...</td>\n",
       "      <td>840</td>\n",
       "      <td>Television and movies (not religious)</td>\n",
       "    </tr>\n",
       "    <tr>\n",
       "      <th>17</th>\n",
       "      <td>20130403132392</td>\n",
       "      <td>1</td>\n",
       "      <td>31</td>\n",
       "      <td>1365.38</td>\n",
       "      <td>341.345000</td>\n",
       "      <td>4</td>\n",
       "      <td>Electrical and electronics engineers: Architec...</td>\n",
       "      <td>1080</td>\n",
       "      <td>Television and movies (not religious)</td>\n",
       "    </tr>\n",
       "    <tr>\n",
       "      <th>36</th>\n",
       "      <td>20130706132155</td>\n",
       "      <td>2</td>\n",
       "      <td>30</td>\n",
       "      <td>2416.00</td>\n",
       "      <td>120.800000</td>\n",
       "      <td>20</td>\n",
       "      <td>Teacher assistants: Education, training, and l...</td>\n",
       "      <td>760</td>\n",
       "      <td>Reading for personal interest</td>\n",
       "    </tr>\n",
       "    <tr>\n",
       "      <th>41</th>\n",
       "      <td>20130706132155</td>\n",
       "      <td>2</td>\n",
       "      <td>30</td>\n",
       "      <td>2416.00</td>\n",
       "      <td>120.800000</td>\n",
       "      <td>20</td>\n",
       "      <td>Teacher assistants: Education, training, and l...</td>\n",
       "      <td>920</td>\n",
       "      <td>Socializing and communicating with others</td>\n",
       "    </tr>\n",
       "    <tr>\n",
       "      <th>42</th>\n",
       "      <td>20130706132155</td>\n",
       "      <td>2</td>\n",
       "      <td>30</td>\n",
       "      <td>2416.00</td>\n",
       "      <td>120.800000</td>\n",
       "      <td>20</td>\n",
       "      <td>Teacher assistants: Education, training, and l...</td>\n",
       "      <td>1110</td>\n",
       "      <td>Television and movies (not religious)</td>\n",
       "    </tr>\n",
       "    <tr>\n",
       "      <th>63</th>\n",
       "      <td>20130504130649</td>\n",
       "      <td>2</td>\n",
       "      <td>38</td>\n",
       "      <td>352.00</td>\n",
       "      <td>117.333333</td>\n",
       "      <td>3</td>\n",
       "      <td>Teacher assistants: Education, training, and l...</td>\n",
       "      <td>1050</td>\n",
       "      <td>Socializing and communicating with others</td>\n",
       "    </tr>\n",
       "    <tr>\n",
       "      <th>66</th>\n",
       "      <td>20130504130649</td>\n",
       "      <td>2</td>\n",
       "      <td>38</td>\n",
       "      <td>352.00</td>\n",
       "      <td>117.333333</td>\n",
       "      <td>3</td>\n",
       "      <td>Teacher assistants: Education, training, and l...</td>\n",
       "      <td>1090</td>\n",
       "      <td>Socializing and communicating with others</td>\n",
       "    </tr>\n",
       "    <tr>\n",
       "      <th>71</th>\n",
       "      <td>20130201132332</td>\n",
       "      <td>1</td>\n",
       "      <td>30</td>\n",
       "      <td>1632.00</td>\n",
       "      <td>102.000000</td>\n",
       "      <td>16</td>\n",
       "      <td>Painters, construction and maintenance</td>\n",
       "      <td>600</td>\n",
       "      <td>Television and movies (not religious)</td>\n",
       "    </tr>\n",
       "    <tr>\n",
       "      <th>75</th>\n",
       "      <td>20130201132332</td>\n",
       "      <td>1</td>\n",
       "      <td>30</td>\n",
       "      <td>1632.00</td>\n",
       "      <td>102.000000</td>\n",
       "      <td>16</td>\n",
       "      <td>Painters, construction and maintenance</td>\n",
       "      <td>1140</td>\n",
       "      <td>Television and movies (not religious)</td>\n",
       "    </tr>\n",
       "    <tr>\n",
       "      <th>85</th>\n",
       "      <td>20131210131602</td>\n",
       "      <td>1</td>\n",
       "      <td>33</td>\n",
       "      <td>2884.61</td>\n",
       "      <td>96.153667</td>\n",
       "      <td>30</td>\n",
       "      <td>Butchers and other meat, poultry, and fish pro...</td>\n",
       "      <td>570</td>\n",
       "      <td>Television and movies (not religious)</td>\n",
       "    </tr>\n",
       "    <tr>\n",
       "      <th>90</th>\n",
       "      <td>20131210131602</td>\n",
       "      <td>1</td>\n",
       "      <td>33</td>\n",
       "      <td>2884.61</td>\n",
       "      <td>96.153667</td>\n",
       "      <td>30</td>\n",
       "      <td>Butchers and other meat, poultry, and fish pro...</td>\n",
       "      <td>660</td>\n",
       "      <td>Television and movies (not religious)</td>\n",
       "    </tr>\n",
       "    <tr>\n",
       "      <th>91</th>\n",
       "      <td>20131210131602</td>\n",
       "      <td>1</td>\n",
       "      <td>33</td>\n",
       "      <td>2884.61</td>\n",
       "      <td>96.153667</td>\n",
       "      <td>30</td>\n",
       "      <td>Butchers and other meat, poultry, and fish pro...</td>\n",
       "      <td>690</td>\n",
       "      <td>Relaxing, thinking</td>\n",
       "    </tr>\n",
       "    <tr>\n",
       "      <th>96</th>\n",
       "      <td>20131210131602</td>\n",
       "      <td>1</td>\n",
       "      <td>33</td>\n",
       "      <td>2884.61</td>\n",
       "      <td>96.153667</td>\n",
       "      <td>30</td>\n",
       "      <td>Butchers and other meat, poultry, and fish pro...</td>\n",
       "      <td>780</td>\n",
       "      <td>Television and movies (not religious)</td>\n",
       "    </tr>\n",
       "    <tr>\n",
       "      <th>103</th>\n",
       "      <td>20131210131602</td>\n",
       "      <td>1</td>\n",
       "      <td>33</td>\n",
       "      <td>2884.61</td>\n",
       "      <td>96.153667</td>\n",
       "      <td>30</td>\n",
       "      <td>Butchers and other meat, poultry, and fish pro...</td>\n",
       "      <td>1045</td>\n",
       "      <td>Television and movies (not religious)</td>\n",
       "    </tr>\n",
       "  </tbody>\n",
       "</table>\n",
       "</div>"
      ],
      "text/plain": [
       "           tucaseid  SEX  AGE  WEEKLY_EARNINGS  HOURLY_WAGE  WEEKLY_HRS  \\\n",
       "14   20130403132392    1   31          1365.38   341.345000           4   \n",
       "17   20130403132392    1   31          1365.38   341.345000           4   \n",
       "36   20130706132155    2   30          2416.00   120.800000          20   \n",
       "41   20130706132155    2   30          2416.00   120.800000          20   \n",
       "42   20130706132155    2   30          2416.00   120.800000          20   \n",
       "63   20130504130649    2   38           352.00   117.333333           3   \n",
       "66   20130504130649    2   38           352.00   117.333333           3   \n",
       "71   20130201132332    1   30          1632.00   102.000000          16   \n",
       "75   20130201132332    1   30          1632.00   102.000000          16   \n",
       "85   20131210131602    1   33          2884.61    96.153667          30   \n",
       "90   20131210131602    1   33          2884.61    96.153667          30   \n",
       "91   20131210131602    1   33          2884.61    96.153667          30   \n",
       "96   20131210131602    1   33          2884.61    96.153667          30   \n",
       "103  20131210131602    1   33          2884.61    96.153667          30   \n",
       "\n",
       "                                              JOB_DESC  TUCUMDUR  \\\n",
       "14   Electrical and electronics engineers: Architec...       840   \n",
       "17   Electrical and electronics engineers: Architec...      1080   \n",
       "36   Teacher assistants: Education, training, and l...       760   \n",
       "41   Teacher assistants: Education, training, and l...       920   \n",
       "42   Teacher assistants: Education, training, and l...      1110   \n",
       "63   Teacher assistants: Education, training, and l...      1050   \n",
       "66   Teacher assistants: Education, training, and l...      1090   \n",
       "71              Painters, construction and maintenance       600   \n",
       "75              Painters, construction and maintenance      1140   \n",
       "85   Butchers and other meat, poultry, and fish pro...       570   \n",
       "90   Butchers and other meat, poultry, and fish pro...       660   \n",
       "91   Butchers and other meat, poultry, and fish pro...       690   \n",
       "96   Butchers and other meat, poultry, and fish pro...       780   \n",
       "103  Butchers and other meat, poultry, and fish pro...      1045   \n",
       "\n",
       "                                   LEISURE_ACT  \n",
       "14       Television and movies (not religious)  \n",
       "17       Television and movies (not religious)  \n",
       "36               Reading for personal interest  \n",
       "41   Socializing and communicating with others  \n",
       "42       Television and movies (not religious)  \n",
       "63   Socializing and communicating with others  \n",
       "66   Socializing and communicating with others  \n",
       "71       Television and movies (not religious)  \n",
       "75       Television and movies (not religious)  \n",
       "85       Television and movies (not religious)  \n",
       "90       Television and movies (not religious)  \n",
       "91                          Relaxing, thinking  \n",
       "96       Television and movies (not religious)  \n",
       "103      Television and movies (not religious)  "
      ]
     },
     "execution_count": 870,
     "metadata": {},
     "output_type": "execute_result"
    }
   ],
   "source": [
    "highest_wages_30_jobID_act"
   ]
  },
  {
   "cell_type": "code",
   "execution_count": 872,
   "metadata": {
    "collapsed": false
   },
   "outputs": [
    {
     "data": {
      "text/html": [
       "<div>\n",
       "<table border=\"1\" class=\"dataframe\">\n",
       "  <thead>\n",
       "    <tr style=\"text-align: right;\">\n",
       "      <th></th>\n",
       "      <th>tucaseid</th>\n",
       "      <th>SEX</th>\n",
       "      <th>AGE</th>\n",
       "      <th>WEEKLY_EARNINGS</th>\n",
       "      <th>HOURLY_WAGE</th>\n",
       "      <th>WEEKLY_HRS</th>\n",
       "      <th>JOB_DESC</th>\n",
       "      <th>TUCUMDUR</th>\n",
       "      <th>LEISURE_ACT</th>\n",
       "    </tr>\n",
       "  </thead>\n",
       "  <tbody>\n",
       "    <tr>\n",
       "      <th>3</th>\n",
       "      <td>20130404130168</td>\n",
       "      <td>2</td>\n",
       "      <td>49</td>\n",
       "      <td>1000.00</td>\n",
       "      <td>125.000000</td>\n",
       "      <td>8</td>\n",
       "      <td>Flight attendants: Transportation and material...</td>\n",
       "      <td>270</td>\n",
       "      <td>Television and movies (not religious)</td>\n",
       "    </tr>\n",
       "    <tr>\n",
       "      <th>9</th>\n",
       "      <td>20130404130168</td>\n",
       "      <td>2</td>\n",
       "      <td>49</td>\n",
       "      <td>1000.00</td>\n",
       "      <td>125.000000</td>\n",
       "      <td>8</td>\n",
       "      <td>Flight attendants: Transportation and material...</td>\n",
       "      <td>520</td>\n",
       "      <td>Socializing and communicating with others</td>\n",
       "    </tr>\n",
       "    <tr>\n",
       "      <th>16</th>\n",
       "      <td>20130404130168</td>\n",
       "      <td>2</td>\n",
       "      <td>49</td>\n",
       "      <td>1000.00</td>\n",
       "      <td>125.000000</td>\n",
       "      <td>8</td>\n",
       "      <td>Flight attendants: Transportation and material...</td>\n",
       "      <td>625</td>\n",
       "      <td>Socializing and communicating with others</td>\n",
       "    </tr>\n",
       "    <tr>\n",
       "      <th>20</th>\n",
       "      <td>20130404130168</td>\n",
       "      <td>2</td>\n",
       "      <td>49</td>\n",
       "      <td>1000.00</td>\n",
       "      <td>125.000000</td>\n",
       "      <td>8</td>\n",
       "      <td>Flight attendants: Transportation and material...</td>\n",
       "      <td>780</td>\n",
       "      <td>Socializing and communicating with others</td>\n",
       "    </tr>\n",
       "    <tr>\n",
       "      <th>23</th>\n",
       "      <td>20130404130168</td>\n",
       "      <td>2</td>\n",
       "      <td>49</td>\n",
       "      <td>1000.00</td>\n",
       "      <td>125.000000</td>\n",
       "      <td>8</td>\n",
       "      <td>Flight attendants: Transportation and material...</td>\n",
       "      <td>812</td>\n",
       "      <td>Computer use for leisure (excluding games)</td>\n",
       "    </tr>\n",
       "    <tr>\n",
       "      <th>32</th>\n",
       "      <td>20130404130168</td>\n",
       "      <td>2</td>\n",
       "      <td>49</td>\n",
       "      <td>1000.00</td>\n",
       "      <td>125.000000</td>\n",
       "      <td>8</td>\n",
       "      <td>Flight attendants: Transportation and material...</td>\n",
       "      <td>989</td>\n",
       "      <td>Computer use for leisure (excluding games)</td>\n",
       "    </tr>\n",
       "    <tr>\n",
       "      <th>34</th>\n",
       "      <td>20130404130168</td>\n",
       "      <td>2</td>\n",
       "      <td>49</td>\n",
       "      <td>1000.00</td>\n",
       "      <td>125.000000</td>\n",
       "      <td>8</td>\n",
       "      <td>Flight attendants: Transportation and material...</td>\n",
       "      <td>1051</td>\n",
       "      <td>Socializing and communicating with others</td>\n",
       "    </tr>\n",
       "    <tr>\n",
       "      <th>35</th>\n",
       "      <td>20130404130168</td>\n",
       "      <td>2</td>\n",
       "      <td>49</td>\n",
       "      <td>1000.00</td>\n",
       "      <td>125.000000</td>\n",
       "      <td>8</td>\n",
       "      <td>Flight attendants: Transportation and material...</td>\n",
       "      <td>1111</td>\n",
       "      <td>Reading for personal interest</td>\n",
       "    </tr>\n",
       "    <tr>\n",
       "      <th>36</th>\n",
       "      <td>20130404130168</td>\n",
       "      <td>2</td>\n",
       "      <td>49</td>\n",
       "      <td>1000.00</td>\n",
       "      <td>125.000000</td>\n",
       "      <td>8</td>\n",
       "      <td>Flight attendants: Transportation and material...</td>\n",
       "      <td>1141</td>\n",
       "      <td>Television and movies (not religious)</td>\n",
       "    </tr>\n",
       "    <tr>\n",
       "      <th>53</th>\n",
       "      <td>20130504132472</td>\n",
       "      <td>2</td>\n",
       "      <td>42</td>\n",
       "      <td>2884.61</td>\n",
       "      <td>103.021786</td>\n",
       "      <td>28</td>\n",
       "      <td>Teacher assistants: Education, training, and l...</td>\n",
       "      <td>990</td>\n",
       "      <td>Socializing and communicating with others</td>\n",
       "    </tr>\n",
       "    <tr>\n",
       "      <th>66</th>\n",
       "      <td>20130909131967</td>\n",
       "      <td>2</td>\n",
       "      <td>42</td>\n",
       "      <td>800.00</td>\n",
       "      <td>100.000000</td>\n",
       "      <td>8</td>\n",
       "      <td>Industrial truck and tractor operators</td>\n",
       "      <td>360</td>\n",
       "      <td>Socializing and communicating with others</td>\n",
       "    </tr>\n",
       "    <tr>\n",
       "      <th>73</th>\n",
       "      <td>20130909131967</td>\n",
       "      <td>2</td>\n",
       "      <td>42</td>\n",
       "      <td>800.00</td>\n",
       "      <td>100.000000</td>\n",
       "      <td>8</td>\n",
       "      <td>Industrial truck and tractor operators</td>\n",
       "      <td>645</td>\n",
       "      <td>Socializing and communicating with others</td>\n",
       "    </tr>\n",
       "    <tr>\n",
       "      <th>75</th>\n",
       "      <td>20130909131967</td>\n",
       "      <td>2</td>\n",
       "      <td>42</td>\n",
       "      <td>800.00</td>\n",
       "      <td>100.000000</td>\n",
       "      <td>8</td>\n",
       "      <td>Industrial truck and tractor operators</td>\n",
       "      <td>690</td>\n",
       "      <td>Socializing and communicating with others</td>\n",
       "    </tr>\n",
       "    <tr>\n",
       "      <th>78</th>\n",
       "      <td>20130909131967</td>\n",
       "      <td>2</td>\n",
       "      <td>42</td>\n",
       "      <td>800.00</td>\n",
       "      <td>100.000000</td>\n",
       "      <td>8</td>\n",
       "      <td>Industrial truck and tractor operators</td>\n",
       "      <td>885</td>\n",
       "      <td>Socializing and communicating with others</td>\n",
       "    </tr>\n",
       "    <tr>\n",
       "      <th>80</th>\n",
       "      <td>20130909131967</td>\n",
       "      <td>2</td>\n",
       "      <td>42</td>\n",
       "      <td>800.00</td>\n",
       "      <td>100.000000</td>\n",
       "      <td>8</td>\n",
       "      <td>Industrial truck and tractor operators</td>\n",
       "      <td>930</td>\n",
       "      <td>Relaxing, thinking</td>\n",
       "    </tr>\n",
       "    <tr>\n",
       "      <th>83</th>\n",
       "      <td>20130909131967</td>\n",
       "      <td>2</td>\n",
       "      <td>42</td>\n",
       "      <td>800.00</td>\n",
       "      <td>100.000000</td>\n",
       "      <td>8</td>\n",
       "      <td>Industrial truck and tractor operators</td>\n",
       "      <td>1020</td>\n",
       "      <td>Television and movies (not religious)</td>\n",
       "    </tr>\n",
       "    <tr>\n",
       "      <th>88</th>\n",
       "      <td>20130201131419</td>\n",
       "      <td>1</td>\n",
       "      <td>47</td>\n",
       "      <td>2884.61</td>\n",
       "      <td>82.417429</td>\n",
       "      <td>35</td>\n",
       "      <td>Elementary and middle school teachers</td>\n",
       "      <td>720</td>\n",
       "      <td>Television and movies (not religious)</td>\n",
       "    </tr>\n",
       "    <tr>\n",
       "      <th>89</th>\n",
       "      <td>20130201131419</td>\n",
       "      <td>1</td>\n",
       "      <td>47</td>\n",
       "      <td>2884.61</td>\n",
       "      <td>82.417429</td>\n",
       "      <td>35</td>\n",
       "      <td>Elementary and middle school teachers</td>\n",
       "      <td>780</td>\n",
       "      <td>Socializing and communicating with others</td>\n",
       "    </tr>\n",
       "    <tr>\n",
       "      <th>90</th>\n",
       "      <td>20130201131419</td>\n",
       "      <td>1</td>\n",
       "      <td>47</td>\n",
       "      <td>2884.61</td>\n",
       "      <td>82.417429</td>\n",
       "      <td>35</td>\n",
       "      <td>Elementary and middle school teachers</td>\n",
       "      <td>840</td>\n",
       "      <td>Television and movies (not religious)</td>\n",
       "    </tr>\n",
       "    <tr>\n",
       "      <th>93</th>\n",
       "      <td>20130201131419</td>\n",
       "      <td>1</td>\n",
       "      <td>47</td>\n",
       "      <td>2884.61</td>\n",
       "      <td>82.417429</td>\n",
       "      <td>35</td>\n",
       "      <td>Elementary and middle school teachers</td>\n",
       "      <td>960</td>\n",
       "      <td>Television and movies (not religious)</td>\n",
       "    </tr>\n",
       "    <tr>\n",
       "      <th>94</th>\n",
       "      <td>20130201131419</td>\n",
       "      <td>1</td>\n",
       "      <td>47</td>\n",
       "      <td>2884.61</td>\n",
       "      <td>82.417429</td>\n",
       "      <td>35</td>\n",
       "      <td>Elementary and middle school teachers</td>\n",
       "      <td>1080</td>\n",
       "      <td>Socializing and communicating with others</td>\n",
       "    </tr>\n",
       "    <tr>\n",
       "      <th>96</th>\n",
       "      <td>20130201131419</td>\n",
       "      <td>1</td>\n",
       "      <td>47</td>\n",
       "      <td>2884.61</td>\n",
       "      <td>82.417429</td>\n",
       "      <td>35</td>\n",
       "      <td>Elementary and middle school teachers</td>\n",
       "      <td>1200</td>\n",
       "      <td>Socializing and communicating with others</td>\n",
       "    </tr>\n",
       "    <tr>\n",
       "      <th>109</th>\n",
       "      <td>20130807131178</td>\n",
       "      <td>2</td>\n",
       "      <td>42</td>\n",
       "      <td>2884.61</td>\n",
       "      <td>80.128056</td>\n",
       "      <td>36</td>\n",
       "      <td>Registered nurses</td>\n",
       "      <td>810</td>\n",
       "      <td>Attending or hosting parties/receptions/ceremo...</td>\n",
       "    </tr>\n",
       "    <tr>\n",
       "      <th>111</th>\n",
       "      <td>20130807131178</td>\n",
       "      <td>2</td>\n",
       "      <td>42</td>\n",
       "      <td>2884.61</td>\n",
       "      <td>80.128056</td>\n",
       "      <td>36</td>\n",
       "      <td>Registered nurses</td>\n",
       "      <td>1020</td>\n",
       "      <td>Attending or hosting parties/receptions/ceremo...</td>\n",
       "    </tr>\n",
       "  </tbody>\n",
       "</table>\n",
       "</div>"
      ],
      "text/plain": [
       "           tucaseid  SEX  AGE  WEEKLY_EARNINGS  HOURLY_WAGE  WEEKLY_HRS  \\\n",
       "3    20130404130168    2   49          1000.00   125.000000           8   \n",
       "9    20130404130168    2   49          1000.00   125.000000           8   \n",
       "16   20130404130168    2   49          1000.00   125.000000           8   \n",
       "20   20130404130168    2   49          1000.00   125.000000           8   \n",
       "23   20130404130168    2   49          1000.00   125.000000           8   \n",
       "32   20130404130168    2   49          1000.00   125.000000           8   \n",
       "34   20130404130168    2   49          1000.00   125.000000           8   \n",
       "35   20130404130168    2   49          1000.00   125.000000           8   \n",
       "36   20130404130168    2   49          1000.00   125.000000           8   \n",
       "53   20130504132472    2   42          2884.61   103.021786          28   \n",
       "66   20130909131967    2   42           800.00   100.000000           8   \n",
       "73   20130909131967    2   42           800.00   100.000000           8   \n",
       "75   20130909131967    2   42           800.00   100.000000           8   \n",
       "78   20130909131967    2   42           800.00   100.000000           8   \n",
       "80   20130909131967    2   42           800.00   100.000000           8   \n",
       "83   20130909131967    2   42           800.00   100.000000           8   \n",
       "88   20130201131419    1   47          2884.61    82.417429          35   \n",
       "89   20130201131419    1   47          2884.61    82.417429          35   \n",
       "90   20130201131419    1   47          2884.61    82.417429          35   \n",
       "93   20130201131419    1   47          2884.61    82.417429          35   \n",
       "94   20130201131419    1   47          2884.61    82.417429          35   \n",
       "96   20130201131419    1   47          2884.61    82.417429          35   \n",
       "109  20130807131178    2   42          2884.61    80.128056          36   \n",
       "111  20130807131178    2   42          2884.61    80.128056          36   \n",
       "\n",
       "                                              JOB_DESC  TUCUMDUR  \\\n",
       "3    Flight attendants: Transportation and material...       270   \n",
       "9    Flight attendants: Transportation and material...       520   \n",
       "16   Flight attendants: Transportation and material...       625   \n",
       "20   Flight attendants: Transportation and material...       780   \n",
       "23   Flight attendants: Transportation and material...       812   \n",
       "32   Flight attendants: Transportation and material...       989   \n",
       "34   Flight attendants: Transportation and material...      1051   \n",
       "35   Flight attendants: Transportation and material...      1111   \n",
       "36   Flight attendants: Transportation and material...      1141   \n",
       "53   Teacher assistants: Education, training, and l...       990   \n",
       "66              Industrial truck and tractor operators       360   \n",
       "73              Industrial truck and tractor operators       645   \n",
       "75              Industrial truck and tractor operators       690   \n",
       "78              Industrial truck and tractor operators       885   \n",
       "80              Industrial truck and tractor operators       930   \n",
       "83              Industrial truck and tractor operators      1020   \n",
       "88               Elementary and middle school teachers       720   \n",
       "89               Elementary and middle school teachers       780   \n",
       "90               Elementary and middle school teachers       840   \n",
       "93               Elementary and middle school teachers       960   \n",
       "94               Elementary and middle school teachers      1080   \n",
       "96               Elementary and middle school teachers      1200   \n",
       "109                                  Registered nurses       810   \n",
       "111                                  Registered nurses      1020   \n",
       "\n",
       "                                           LEISURE_ACT  \n",
       "3                Television and movies (not religious)  \n",
       "9            Socializing and communicating with others  \n",
       "16           Socializing and communicating with others  \n",
       "20           Socializing and communicating with others  \n",
       "23          Computer use for leisure (excluding games)  \n",
       "32          Computer use for leisure (excluding games)  \n",
       "34           Socializing and communicating with others  \n",
       "35                       Reading for personal interest  \n",
       "36               Television and movies (not religious)  \n",
       "53           Socializing and communicating with others  \n",
       "66           Socializing and communicating with others  \n",
       "73           Socializing and communicating with others  \n",
       "75           Socializing and communicating with others  \n",
       "78           Socializing and communicating with others  \n",
       "80                                  Relaxing, thinking  \n",
       "83               Television and movies (not religious)  \n",
       "88               Television and movies (not religious)  \n",
       "89           Socializing and communicating with others  \n",
       "90               Television and movies (not religious)  \n",
       "93               Television and movies (not religious)  \n",
       "94           Socializing and communicating with others  \n",
       "96           Socializing and communicating with others  \n",
       "109  Attending or hosting parties/receptions/ceremo...  \n",
       "111  Attending or hosting parties/receptions/ceremo...  "
      ]
     },
     "execution_count": 872,
     "metadata": {},
     "output_type": "execute_result"
    }
   ],
   "source": [
    "highest_wages_40_jobID_act"
   ]
  },
  {
   "cell_type": "code",
   "execution_count": 836,
   "metadata": {
    "collapsed": false
   },
   "outputs": [
    {
     "data": {
      "text/html": [
       "<div>\n",
       "<table border=\"1\" class=\"dataframe\">\n",
       "  <thead>\n",
       "    <tr style=\"text-align: right;\">\n",
       "      <th></th>\n",
       "      <th>tucaseid</th>\n",
       "      <th>SEX</th>\n",
       "      <th>AGE</th>\n",
       "      <th>WEEKLY_EARNINGS</th>\n",
       "      <th>HOURLY_WAGE</th>\n",
       "      <th>WEEKLY_HRS</th>\n",
       "      <th>JOB_DESC</th>\n",
       "      <th>TUCUMDUR</th>\n",
       "      <th>LEISURE_ACT</th>\n",
       "    </tr>\n",
       "  </thead>\n",
       "  <tbody>\n",
       "    <tr>\n",
       "      <th>14</th>\n",
       "      <td>20130705131466</td>\n",
       "      <td>2</td>\n",
       "      <td>56</td>\n",
       "      <td>440.00</td>\n",
       "      <td>110.000000</td>\n",
       "      <td>4</td>\n",
       "      <td>Other teachers and instructors</td>\n",
       "      <td>1095</td>\n",
       "      <td>Television and movies (not religious)</td>\n",
       "    </tr>\n",
       "    <tr>\n",
       "      <th>21</th>\n",
       "      <td>20130807130925</td>\n",
       "      <td>1</td>\n",
       "      <td>53</td>\n",
       "      <td>2884.61</td>\n",
       "      <td>96.153667</td>\n",
       "      <td>30</td>\n",
       "      <td>Dentists</td>\n",
       "      <td>240</td>\n",
       "      <td>Playing games</td>\n",
       "    </tr>\n",
       "    <tr>\n",
       "      <th>31</th>\n",
       "      <td>20130807130925</td>\n",
       "      <td>1</td>\n",
       "      <td>53</td>\n",
       "      <td>2884.61</td>\n",
       "      <td>96.153667</td>\n",
       "      <td>30</td>\n",
       "      <td>Dentists</td>\n",
       "      <td>775</td>\n",
       "      <td>Reading for personal interest</td>\n",
       "    </tr>\n",
       "    <tr>\n",
       "      <th>34</th>\n",
       "      <td>20130807130925</td>\n",
       "      <td>1</td>\n",
       "      <td>53</td>\n",
       "      <td>2884.61</td>\n",
       "      <td>96.153667</td>\n",
       "      <td>30</td>\n",
       "      <td>Dentists</td>\n",
       "      <td>1020</td>\n",
       "      <td>Television and movies (not religious)</td>\n",
       "    </tr>\n",
       "    <tr>\n",
       "      <th>40</th>\n",
       "      <td>20130706131014</td>\n",
       "      <td>1</td>\n",
       "      <td>56</td>\n",
       "      <td>1153.84</td>\n",
       "      <td>96.153333</td>\n",
       "      <td>12</td>\n",
       "      <td>Driver/sales workers and truck drivers</td>\n",
       "      <td>1080</td>\n",
       "      <td>Television and movies (not religious)</td>\n",
       "    </tr>\n",
       "    <tr>\n",
       "      <th>59</th>\n",
       "      <td>20130706131821</td>\n",
       "      <td>2</td>\n",
       "      <td>58</td>\n",
       "      <td>769.00</td>\n",
       "      <td>96.125000</td>\n",
       "      <td>8</td>\n",
       "      <td>Miscellaneous legal support workers</td>\n",
       "      <td>909</td>\n",
       "      <td>Socializing and communicating with others</td>\n",
       "    </tr>\n",
       "    <tr>\n",
       "      <th>65</th>\n",
       "      <td>20130706131821</td>\n",
       "      <td>2</td>\n",
       "      <td>58</td>\n",
       "      <td>769.00</td>\n",
       "      <td>96.125000</td>\n",
       "      <td>8</td>\n",
       "      <td>Miscellaneous legal support workers</td>\n",
       "      <td>1114</td>\n",
       "      <td>Reading for personal interest</td>\n",
       "    </tr>\n",
       "    <tr>\n",
       "      <th>79</th>\n",
       "      <td>20130908130648</td>\n",
       "      <td>2</td>\n",
       "      <td>53</td>\n",
       "      <td>2884.61</td>\n",
       "      <td>84.841471</td>\n",
       "      <td>34</td>\n",
       "      <td>Physicians and surgeons</td>\n",
       "      <td>1060</td>\n",
       "      <td>Relaxing, thinking</td>\n",
       "    </tr>\n",
       "  </tbody>\n",
       "</table>\n",
       "</div>"
      ],
      "text/plain": [
       "          tucaseid  SEX  AGE  WEEKLY_EARNINGS  HOURLY_WAGE  WEEKLY_HRS  \\\n",
       "14  20130705131466    2   56           440.00   110.000000           4   \n",
       "21  20130807130925    1   53          2884.61    96.153667          30   \n",
       "31  20130807130925    1   53          2884.61    96.153667          30   \n",
       "34  20130807130925    1   53          2884.61    96.153667          30   \n",
       "40  20130706131014    1   56          1153.84    96.153333          12   \n",
       "59  20130706131821    2   58           769.00    96.125000           8   \n",
       "65  20130706131821    2   58           769.00    96.125000           8   \n",
       "79  20130908130648    2   53          2884.61    84.841471          34   \n",
       "\n",
       "                                  JOB_DESC  TUCUMDUR  \\\n",
       "14          Other teachers and instructors      1095   \n",
       "21                                Dentists       240   \n",
       "31                                Dentists       775   \n",
       "34                                Dentists      1020   \n",
       "40  Driver/sales workers and truck drivers      1080   \n",
       "59     Miscellaneous legal support workers       909   \n",
       "65     Miscellaneous legal support workers      1114   \n",
       "79                 Physicians and surgeons      1060   \n",
       "\n",
       "                                  LEISURE_ACT  \n",
       "14      Television and movies (not religious)  \n",
       "21                              Playing games  \n",
       "31              Reading for personal interest  \n",
       "34      Television and movies (not religious)  \n",
       "40      Television and movies (not religious)  \n",
       "59  Socializing and communicating with others  \n",
       "65              Reading for personal interest  \n",
       "79                         Relaxing, thinking  "
      ]
     },
     "execution_count": 836,
     "metadata": {},
     "output_type": "execute_result"
    }
   ],
   "source": [
    "highest_wages_50_jobID_act"
   ]
  },
  {
   "cell_type": "markdown",
   "metadata": {},
   "source": [
    "# Look at Sports excercise recreation"
   ]
  },
  {
   "cell_type": "code",
   "execution_count": 876,
   "metadata": {
    "collapsed": true
   },
   "outputs": [],
   "source": [
    "highest_wages_50_jobID_sprt = pd.merge(highest_wages_50_jobID, activities, left_on=\"tucaseid\", right_on=\"TUCASEID\")\n",
    "highest_wages_50_jobID_sprt = highest_wages_50_jobID_sprt.drop('TUCASEID', 1)\n",
    "highest_wages_50_jobID_sprt = highest_wages_50_jobID_sprt[['tucaseid','SEX','AGE','WEEKLY_EARNINGS','HOURLY_WAGE', 'WEEKLY_HRS',\n",
    "                                      'JOB_DESC','TRCODE','TUTIER1CODE','TUCUMDUR']]\n",
    "highest_wages_50_jobID_sprt = highest_wages_50_jobID_sprt[ highest_wages_50_jobID_sprt['TUTIER1CODE'] == 13]\n",
    "highest_wages_50_jobID_sprt = highest_wages_50_jobID_sprt.drop('TUTIER1CODE', 1)"
   ]
  },
  {
   "cell_type": "code",
   "execution_count": 877,
   "metadata": {
    "collapsed": false
   },
   "outputs": [
    {
     "data": {
      "text/html": [
       "<div>\n",
       "<table border=\"1\" class=\"dataframe\">\n",
       "  <thead>\n",
       "    <tr style=\"text-align: right;\">\n",
       "      <th></th>\n",
       "      <th>tucaseid</th>\n",
       "      <th>SEX</th>\n",
       "      <th>AGE</th>\n",
       "      <th>WEEKLY_EARNINGS</th>\n",
       "      <th>HOURLY_WAGE</th>\n",
       "      <th>WEEKLY_HRS</th>\n",
       "      <th>JOB_DESC</th>\n",
       "      <th>TRCODE</th>\n",
       "      <th>TUCUMDUR</th>\n",
       "    </tr>\n",
       "  </thead>\n",
       "  <tbody>\n",
       "  </tbody>\n",
       "</table>\n",
       "</div>"
      ],
      "text/plain": [
       "Empty DataFrame\n",
       "Columns: [tucaseid, SEX, AGE, WEEKLY_EARNINGS, HOURLY_WAGE, WEEKLY_HRS, JOB_DESC, TRCODE, TUCUMDUR]\n",
       "Index: []"
      ]
     },
     "execution_count": 877,
     "metadata": {},
     "output_type": "execute_result"
    }
   ],
   "source": [
    "highest_wages_50_jobID_sprt"
   ]
  },
  {
   "cell_type": "code",
   "execution_count": 878,
   "metadata": {
    "collapsed": false
   },
   "outputs": [],
   "source": [
    "highest_wages_40_jobID_sprt = pd.merge(highest_wages_40_jobID, activities, left_on=\"tucaseid\", right_on=\"TUCASEID\")\n",
    "highest_wages_40_jobID_sprt = highest_wages_40_jobID_sprt.drop('TUCASEID', 1)\n",
    "highest_wages_40_jobID_sprt = highest_wages_40_jobID_sprt[['tucaseid','SEX','AGE','WEEKLY_EARNINGS','HOURLY_WAGE', 'WEEKLY_HRS',\n",
    "                                      'JOB_DESC','TRCODE','TUTIER1CODE','TUCUMDUR']]\n",
    "highest_wages_40_jobID_sprt = highest_wages_40_jobID_sprt[ highest_wages_40_jobID_sprt['TUTIER1CODE'] == 13]\n",
    "highest_wages_40_jobID_sprt = highest_wages_40_jobID_sprt.drop('TUTIER1CODE', 1)"
   ]
  },
  {
   "cell_type": "code",
   "execution_count": 879,
   "metadata": {
    "collapsed": false
   },
   "outputs": [
    {
     "data": {
      "text/html": [
       "<div>\n",
       "<table border=\"1\" class=\"dataframe\">\n",
       "  <thead>\n",
       "    <tr style=\"text-align: right;\">\n",
       "      <th></th>\n",
       "      <th>tucaseid</th>\n",
       "      <th>SEX</th>\n",
       "      <th>AGE</th>\n",
       "      <th>WEEKLY_EARNINGS</th>\n",
       "      <th>HOURLY_WAGE</th>\n",
       "      <th>WEEKLY_HRS</th>\n",
       "      <th>JOB_DESC</th>\n",
       "      <th>TRCODE</th>\n",
       "      <th>TUCUMDUR</th>\n",
       "    </tr>\n",
       "  </thead>\n",
       "  <tbody>\n",
       "    <tr>\n",
       "      <th>39</th>\n",
       "      <td>20130504132472</td>\n",
       "      <td>2</td>\n",
       "      <td>42</td>\n",
       "      <td>2884.61</td>\n",
       "      <td>103.021786</td>\n",
       "      <td>28</td>\n",
       "      <td>Teacher assistants: Education, training, and l...</td>\n",
       "      <td>130131</td>\n",
       "      <td>240</td>\n",
       "    </tr>\n",
       "    <tr>\n",
       "      <th>76</th>\n",
       "      <td>20130909131967</td>\n",
       "      <td>2</td>\n",
       "      <td>42</td>\n",
       "      <td>800.00</td>\n",
       "      <td>100.000000</td>\n",
       "      <td>8</td>\n",
       "      <td>Industrial truck and tractor operators</td>\n",
       "      <td>130109</td>\n",
       "      <td>810</td>\n",
       "    </tr>\n",
       "  </tbody>\n",
       "</table>\n",
       "</div>"
      ],
      "text/plain": [
       "          tucaseid  SEX  AGE  WEEKLY_EARNINGS  HOURLY_WAGE  WEEKLY_HRS  \\\n",
       "39  20130504132472    2   42          2884.61   103.021786          28   \n",
       "76  20130909131967    2   42           800.00   100.000000           8   \n",
       "\n",
       "                                             JOB_DESC  TRCODE  TUCUMDUR  \n",
       "39  Teacher assistants: Education, training, and l...  130131       240  \n",
       "76             Industrial truck and tractor operators  130109       810  "
      ]
     },
     "execution_count": 879,
     "metadata": {},
     "output_type": "execute_result"
    }
   ],
   "source": [
    "highest_wages_40_jobID_sprt"
   ]
  },
  {
   "cell_type": "code",
   "execution_count": 880,
   "metadata": {
    "collapsed": true
   },
   "outputs": [],
   "source": [
    "highest_wages_30_jobID_sprt = pd.merge(highest_wages_30_jobID, activities, left_on=\"tucaseid\", right_on=\"TUCASEID\")\n",
    "highest_wages_30_jobID_sprt = highest_wages_30_jobID_sprt.drop('TUCASEID', 1)\n",
    "highest_wages_30_jobID_sprt = highest_wages_30_jobID_sprt[['tucaseid','SEX','AGE','WEEKLY_EARNINGS','HOURLY_WAGE', 'WEEKLY_HRS',\n",
    "                                      'JOB_DESC','TRCODE','TUTIER1CODE','TUCUMDUR']]\n",
    "highest_wages_30_jobID_sprt = highest_wages_30_jobID_sprt[ highest_wages_30_jobID_sprt['TUTIER1CODE'] == 13]\n",
    "highest_wages_30_jobID_sprt = highest_wages_30_jobID_sprt.drop('TUTIER1CODE', 1)"
   ]
  },
  {
   "cell_type": "code",
   "execution_count": 881,
   "metadata": {
    "collapsed": false
   },
   "outputs": [
    {
     "data": {
      "text/html": [
       "<div>\n",
       "<table border=\"1\" class=\"dataframe\">\n",
       "  <thead>\n",
       "    <tr style=\"text-align: right;\">\n",
       "      <th></th>\n",
       "      <th>tucaseid</th>\n",
       "      <th>SEX</th>\n",
       "      <th>AGE</th>\n",
       "      <th>WEEKLY_EARNINGS</th>\n",
       "      <th>HOURLY_WAGE</th>\n",
       "      <th>WEEKLY_HRS</th>\n",
       "      <th>JOB_DESC</th>\n",
       "      <th>TRCODE</th>\n",
       "      <th>TUCUMDUR</th>\n",
       "    </tr>\n",
       "  </thead>\n",
       "  <tbody>\n",
       "    <tr>\n",
       "      <th>33</th>\n",
       "      <td>20130706132155</td>\n",
       "      <td>2</td>\n",
       "      <td>30</td>\n",
       "      <td>2416</td>\n",
       "      <td>120.8</td>\n",
       "      <td>20</td>\n",
       "      <td>Teacher assistants: Education, training, and l...</td>\n",
       "      <td>130136</td>\n",
       "      <td>650</td>\n",
       "    </tr>\n",
       "    <tr>\n",
       "      <th>34</th>\n",
       "      <td>20130706132155</td>\n",
       "      <td>2</td>\n",
       "      <td>30</td>\n",
       "      <td>2416</td>\n",
       "      <td>120.8</td>\n",
       "      <td>20</td>\n",
       "      <td>Teacher assistants: Education, training, and l...</td>\n",
       "      <td>130132</td>\n",
       "      <td>680</td>\n",
       "    </tr>\n",
       "  </tbody>\n",
       "</table>\n",
       "</div>"
      ],
      "text/plain": [
       "          tucaseid  SEX  AGE  WEEKLY_EARNINGS  HOURLY_WAGE  WEEKLY_HRS  \\\n",
       "33  20130706132155    2   30             2416        120.8          20   \n",
       "34  20130706132155    2   30             2416        120.8          20   \n",
       "\n",
       "                                             JOB_DESC  TRCODE  TUCUMDUR  \n",
       "33  Teacher assistants: Education, training, and l...  130136       650  \n",
       "34  Teacher assistants: Education, training, and l...  130132       680  "
      ]
     },
     "execution_count": 881,
     "metadata": {},
     "output_type": "execute_result"
    }
   ],
   "source": [
    "highest_wages_30_jobID_sprt"
   ]
  },
  {
   "cell_type": "code",
   "execution_count": 882,
   "metadata": {
    "collapsed": false
   },
   "outputs": [],
   "source": [
    "highest_wages_20_jobID_sprt = pd.merge(highest_wages_20_jobID, activities, left_on=\"tucaseid\", right_on=\"TUCASEID\")\n",
    "highest_wages_20_jobID_sprt = highest_wages_20_jobID_sprt.drop('TUCASEID', 1)\n",
    "highest_wages_20_jobID_sprt = highest_wages_20_jobID_sprt[['tucaseid','SEX','AGE','WEEKLY_EARNINGS','HOURLY_WAGE', 'WEEKLY_HRS',\n",
    "                                      'JOB_DESC','TRCODE','TUTIER1CODE','TUCUMDUR']]\n",
    "highest_wages_20_jobID_sprt = highest_wages_20_jobID_sprt[ highest_wages_20_jobID_sprt['TUTIER1CODE'] == 13]\n",
    "highest_wages_20_jobID_sprt = highest_wages_20_jobID_sprt.drop('TUTIER1CODE', 1)"
   ]
  },
  {
   "cell_type": "code",
   "execution_count": 883,
   "metadata": {
    "collapsed": false
   },
   "outputs": [
    {
     "data": {
      "text/html": [
       "<div>\n",
       "<table border=\"1\" class=\"dataframe\">\n",
       "  <thead>\n",
       "    <tr style=\"text-align: right;\">\n",
       "      <th></th>\n",
       "      <th>tucaseid</th>\n",
       "      <th>SEX</th>\n",
       "      <th>AGE</th>\n",
       "      <th>WEEKLY_EARNINGS</th>\n",
       "      <th>HOURLY_WAGE</th>\n",
       "      <th>WEEKLY_HRS</th>\n",
       "      <th>JOB_DESC</th>\n",
       "      <th>TRCODE</th>\n",
       "      <th>TUCUMDUR</th>\n",
       "    </tr>\n",
       "  </thead>\n",
       "  <tbody>\n",
       "    <tr>\n",
       "      <th>14</th>\n",
       "      <td>20131212131341</td>\n",
       "      <td>1</td>\n",
       "      <td>26</td>\n",
       "      <td>2692.3</td>\n",
       "      <td>89.743333</td>\n",
       "      <td>30</td>\n",
       "      <td>Property, real estate, and community associati...</td>\n",
       "      <td>130134</td>\n",
       "      <td>815</td>\n",
       "    </tr>\n",
       "  </tbody>\n",
       "</table>\n",
       "</div>"
      ],
      "text/plain": [
       "          tucaseid  SEX  AGE  WEEKLY_EARNINGS  HOURLY_WAGE  WEEKLY_HRS  \\\n",
       "14  20131212131341    1   26           2692.3    89.743333          30   \n",
       "\n",
       "                                             JOB_DESC  TRCODE  TUCUMDUR  \n",
       "14  Property, real estate, and community associati...  130134       815  "
      ]
     },
     "execution_count": 883,
     "metadata": {},
     "output_type": "execute_result"
    }
   ],
   "source": [
    "highest_wages_20_jobID_sprt"
   ]
  },
  {
   "cell_type": "code",
   "execution_count": 887,
   "metadata": {
    "collapsed": false
   },
   "outputs": [],
   "source": [
    "SPORTS = pd.Series({130134: \"Working out, unspecified\",\n",
    "                    130132: \"Participating in water sports\",\n",
    "                    130136: \"Doing yoga\",\n",
    "                    130131: \"Walking\",\n",
    "                    130109: \"Dancing\"})"
   ]
  },
  {
   "cell_type": "code",
   "execution_count": 888,
   "metadata": {
    "collapsed": false
   },
   "outputs": [],
   "source": [
    "highest_wages_20_jobID_sprt['SPORTS'] = highest_wages_20_jobID_sprt.TRCODE.map(SPORTS)\n",
    "highest_wages_30_jobID_sprt['SPORTS'] = highest_wages_30_jobID_sprt.TRCODE.map(SPORTS)\n",
    "highest_wages_40_jobID_sprt['SPORTS'] = highest_wages_40_jobID_sprt.TRCODE.map(SPORTS)\n",
    "highest_wages_50_jobID_sprt['SPORTS'] = highest_wages_50_jobID_sprt.TRCODE.map(SPORTS)"
   ]
  },
  {
   "cell_type": "code",
   "execution_count": 889,
   "metadata": {
    "collapsed": true
   },
   "outputs": [],
   "source": [
    "highest_wages_20_jobID_sprt = highest_wages_20_jobID_sprt.drop('TRCODE',1)\n",
    "highest_wages_30_jobID_sprt = highest_wages_30_jobID_sprt.drop('TRCODE',1)\n",
    "highest_wages_40_jobID_sprt = highest_wages_40_jobID_sprt.drop('TRCODE',1)\n",
    "highest_wages_50_jobID_sprt = highest_wages_50_jobID_sprt.drop('TRCODE',1)"
   ]
  },
  {
   "cell_type": "markdown",
   "metadata": {},
   "source": [
    "# What do people with the most money and the most mount of free time do?"
   ]
  },
  {
   "cell_type": "markdown",
   "metadata": {},
   "source": [
    "# How does it differ by age?  We will look at 20s, 30s, 40s, 50s"
   ]
  },
  {
   "cell_type": "markdown",
   "metadata": {},
   "source": [
    "# 20's Leisure activity:"
   ]
  },
  {
   "cell_type": "code",
   "execution_count": 894,
   "metadata": {
    "collapsed": false
   },
   "outputs": [
    {
     "data": {
      "image/png": "[encoded data removed]",
      "text/plain": [
       "<matplotlib.figure.Figure at 0x1121dc550>"
      ]
     },
     "metadata": {},
     "output_type": "display_data"
    }
   ],
   "source": [
    "highest_wages_20_jobID_act.LEISURE_ACT.value_counts().plot(kind='pie')\n",
    "plt.show()"
   ]
  },
  {
   "cell_type": "markdown",
   "metadata": {},
   "source": [
    "#20's Sporting & recreation activity:"
   ]
  },
  {
   "cell_type": "code",
   "execution_count": 896,
   "metadata": {
    "collapsed": false
   },
   "outputs": [
    {
     "data": {
      "image/png": "[encoded data removed]",
      "text/plain": [
       "<matplotlib.figure.Figure at 0x1123700b8>"
      ]
     },
     "metadata": {},
     "output_type": "display_data"
    }
   ],
   "source": [
    "highest_wages_20_jobID_sprt.SPORTS.value_counts().plot(kind='pie')\n",
    "plt.show()"
   ]
  },
  {
   "cell_type": "markdown",
   "metadata": {},
   "source": [
    "# 30's Leisure activity:"
   ]
  },
  {
   "cell_type": "code",
   "execution_count": 898,
   "metadata": {
    "collapsed": false
   },
   "outputs": [
    {
     "data": {
      "image/png": "[encoded data removed]",
      "text/plain": [
       "<matplotlib.figure.Figure at 0x11269cef0>"
      ]
     },
     "metadata": {},
     "output_type": "display_data"
    }
   ],
   "source": [
    "highest_wages_30_jobID_act.LEISURE_ACT.value_counts().plot(kind='pie')\n",
    "plt.show()"
   ]
  },
  {
   "cell_type": "markdown",
   "metadata": {},
   "source": [
    "# 30's Sporting & recreation activity:"
   ]
  },
  {
   "cell_type": "code",
   "execution_count": 899,
   "metadata": {
    "collapsed": false
   },
   "outputs": [
    {
     "data": {
      "image/png": "[encoded data removed]",
      "text/plain": [
       "<matplotlib.figure.Figure at 0x112883208>"
      ]
     },
     "metadata": {},
     "output_type": "display_data"
    }
   ],
   "source": [
    "highest_wages_30_jobID_sprt.SPORTS.value_counts().plot(kind='pie')\n",
    "plt.show()"
   ]
  },
  {
   "cell_type": "markdown",
   "metadata": {},
   "source": [
    "# 40's Leisure activity:"
   ]
  },
  {
   "cell_type": "code",
   "execution_count": 901,
   "metadata": {
    "collapsed": false
   },
   "outputs": [
    {
     "data": {
      "image/png": "[encoded data removed]",
      "text/plain": [
       "<matplotlib.figure.Figure at 0x11298ff28>"
      ]
     },
     "metadata": {},
     "output_type": "display_data"
    }
   ],
   "source": [
    "highest_wages_40_jobID_act.LEISURE_ACT.value_counts().plot(kind='pie')\n",
    "plt.show()"
   ]
  },
  {
   "cell_type": "markdown",
   "metadata": {},
   "source": [
    "# 40's Sporting & recreation activity:"
   ]
  },
  {
   "cell_type": "code",
   "execution_count": 902,
   "metadata": {
    "collapsed": false
   },
   "outputs": [
    {
     "data": {
      "image/png": "[encoded data removed]",
      "text/plain": [
       "<matplotlib.figure.Figure at 0x1129e7588>"
      ]
     },
     "metadata": {},
     "output_type": "display_data"
    }
   ],
   "source": [
    "highest_wages_40_jobID_sprt.SPORTS.value_counts().plot(kind='pie')\n",
    "plt.show()"
   ]
  },
  {
   "cell_type": "markdown",
   "metadata": {},
   "source": [
    "#50's Leisure activity:"
   ]
  },
  {
   "cell_type": "code",
   "execution_count": 905,
   "metadata": {
    "collapsed": false
   },
   "outputs": [
    {
     "data": {
      "image/png": "[encoded data removed]",
      "text/plain": [
       "<matplotlib.figure.Figure at 0x112be0940>"
      ]
     },
     "metadata": {},
     "output_type": "display_data"
    }
   ],
   "source": [
    "highest_wages_50_jobID_act.LEISURE_ACT.value_counts().plot(kind='pie')\n",
    "plt.show()"
   ]
  },
  {
   "cell_type": "markdown",
   "metadata": {},
   "source": [
    "#50's Sports and recreation:"
   ]
  },
  {
   "cell_type": "code",
   "execution_count": 908,
   "metadata": {
    "collapsed": false
   },
   "outputs": [],
   "source": [
    "# None!"
   ]
  },
  {
   "cell_type": "code",
   "execution_count": null,
   "metadata": {
    "collapsed": true
   },
   "outputs": [],
   "source": []
  }
 ],
 "metadata": {
  "kernelspec": {
   "display_name": "Python 3",
   "language": "python",
   "name": "python3"
  },
  "language_info": {
   "codemirror_mode": {
    "name": "ipython",
    "version": 3
   },
   "file_extension": ".py",
   "mimetype": "text/x-python",
   "name": "python",
   "nbconvert_exporter": "python",
   "pygments_lexer": "ipython3",
   "version": "3.4.3"
  }
 },
 "nbformat": 4,
 "nbformat_minor": 0
}
